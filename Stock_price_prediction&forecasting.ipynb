{
  "nbformat": 4,
  "nbformat_minor": 0,
  "metadata": {
    "colab": {
      "name": "Stock_price_prediction&forecasting",
      "provenance": [],
      "collapsed_sections": [],
      "authorship_tag": "ABX9TyP6OKvTM55yradg2Ih7fj6A",
      "include_colab_link": true
    },
    "kernelspec": {
      "name": "python3",
      "display_name": "Python 3"
    },
    "language_info": {
      "name": "python"
    }
  },
  "cells": [
    {
      "cell_type": "markdown",
      "metadata": {
        "id": "view-in-github",
        "colab_type": "text"
      },
      "source": [
        "<a href=\"https://colab.research.google.com/github/Rishabh5174/LGMVIP-DataScience/blob/main/Stock_price_prediction%26forecasting.ipynb\" target=\"_parent\"><img src=\"https://colab.research.google.com/assets/colab-badge.svg\" alt=\"Open In Colab\"/></a>"
      ]
    },
    {
      "cell_type": "markdown",
      "metadata": {
        "id": "GqFwdkjgCja_"
      },
      "source": [
        "**Name: Rishabh Kumar Addya**\n",
        "\n",
        "**Task Level: Beginner**\n",
        "\n",
        "**Task: Stock Price Prediction and Forecasting using Stacked LSTM**\n",
        "\n",
        "**Dataset Link: https://www.canva.com/link?target=https%3A%2F%2Fraw.githubusercontent.com%2Fmwitiderrick%2Fstockprice%2Fmaster%2FNSE-TATAGLOBAL.csv&design=DAEjrwWV35w**"
      ]
    },
    {
      "cell_type": "code",
      "metadata": {
        "id": "rolO-2j7wFf_"
      },
      "source": [
        "import pandas as pd\n",
        "df=pd.read_csv('https://raw.githubusercontent.com/mwitiderrick/stockprice/master/NSE-TATAGLOBAL.csv')"
      ],
      "execution_count": 118,
      "outputs": []
    },
    {
      "cell_type": "code",
      "metadata": {
        "colab": {
          "base_uri": "https://localhost:8080/",
          "height": 357
        },
        "id": "-b96Xz6YWZPN",
        "outputId": "d43c1777-ddfb-424a-c7f8-6a804cf9f9c6"
      },
      "source": [
        "df.head(10)"
      ],
      "execution_count": 119,
      "outputs": [
        {
          "output_type": "execute_result",
          "data": {
            "text/html": [
              "<div>\n",
              "<style scoped>\n",
              "    .dataframe tbody tr th:only-of-type {\n",
              "        vertical-align: middle;\n",
              "    }\n",
              "\n",
              "    .dataframe tbody tr th {\n",
              "        vertical-align: top;\n",
              "    }\n",
              "\n",
              "    .dataframe thead th {\n",
              "        text-align: right;\n",
              "    }\n",
              "</style>\n",
              "<table border=\"1\" class=\"dataframe\">\n",
              "  <thead>\n",
              "    <tr style=\"text-align: right;\">\n",
              "      <th></th>\n",
              "      <th>Date</th>\n",
              "      <th>Open</th>\n",
              "      <th>High</th>\n",
              "      <th>Low</th>\n",
              "      <th>Last</th>\n",
              "      <th>Close</th>\n",
              "      <th>Total Trade Quantity</th>\n",
              "      <th>Turnover (Lacs)</th>\n",
              "    </tr>\n",
              "  </thead>\n",
              "  <tbody>\n",
              "    <tr>\n",
              "      <th>0</th>\n",
              "      <td>2018-09-28</td>\n",
              "      <td>234.05</td>\n",
              "      <td>235.95</td>\n",
              "      <td>230.20</td>\n",
              "      <td>233.50</td>\n",
              "      <td>233.75</td>\n",
              "      <td>3069914</td>\n",
              "      <td>7162.35</td>\n",
              "    </tr>\n",
              "    <tr>\n",
              "      <th>1</th>\n",
              "      <td>2018-09-27</td>\n",
              "      <td>234.55</td>\n",
              "      <td>236.80</td>\n",
              "      <td>231.10</td>\n",
              "      <td>233.80</td>\n",
              "      <td>233.25</td>\n",
              "      <td>5082859</td>\n",
              "      <td>11859.95</td>\n",
              "    </tr>\n",
              "    <tr>\n",
              "      <th>2</th>\n",
              "      <td>2018-09-26</td>\n",
              "      <td>240.00</td>\n",
              "      <td>240.00</td>\n",
              "      <td>232.50</td>\n",
              "      <td>235.00</td>\n",
              "      <td>234.25</td>\n",
              "      <td>2240909</td>\n",
              "      <td>5248.60</td>\n",
              "    </tr>\n",
              "    <tr>\n",
              "      <th>3</th>\n",
              "      <td>2018-09-25</td>\n",
              "      <td>233.30</td>\n",
              "      <td>236.75</td>\n",
              "      <td>232.00</td>\n",
              "      <td>236.25</td>\n",
              "      <td>236.10</td>\n",
              "      <td>2349368</td>\n",
              "      <td>5503.90</td>\n",
              "    </tr>\n",
              "    <tr>\n",
              "      <th>4</th>\n",
              "      <td>2018-09-24</td>\n",
              "      <td>233.55</td>\n",
              "      <td>239.20</td>\n",
              "      <td>230.75</td>\n",
              "      <td>234.00</td>\n",
              "      <td>233.30</td>\n",
              "      <td>3423509</td>\n",
              "      <td>7999.55</td>\n",
              "    </tr>\n",
              "    <tr>\n",
              "      <th>5</th>\n",
              "      <td>2018-09-21</td>\n",
              "      <td>235.00</td>\n",
              "      <td>237.00</td>\n",
              "      <td>227.95</td>\n",
              "      <td>233.75</td>\n",
              "      <td>234.60</td>\n",
              "      <td>5395319</td>\n",
              "      <td>12589.59</td>\n",
              "    </tr>\n",
              "    <tr>\n",
              "      <th>6</th>\n",
              "      <td>2018-09-19</td>\n",
              "      <td>235.95</td>\n",
              "      <td>237.20</td>\n",
              "      <td>233.45</td>\n",
              "      <td>234.60</td>\n",
              "      <td>234.90</td>\n",
              "      <td>1362058</td>\n",
              "      <td>3202.78</td>\n",
              "    </tr>\n",
              "    <tr>\n",
              "      <th>7</th>\n",
              "      <td>2018-09-18</td>\n",
              "      <td>237.90</td>\n",
              "      <td>239.25</td>\n",
              "      <td>233.50</td>\n",
              "      <td>235.50</td>\n",
              "      <td>235.05</td>\n",
              "      <td>2614794</td>\n",
              "      <td>6163.70</td>\n",
              "    </tr>\n",
              "    <tr>\n",
              "      <th>8</th>\n",
              "      <td>2018-09-17</td>\n",
              "      <td>233.15</td>\n",
              "      <td>238.00</td>\n",
              "      <td>230.25</td>\n",
              "      <td>236.40</td>\n",
              "      <td>236.60</td>\n",
              "      <td>3170894</td>\n",
              "      <td>7445.41</td>\n",
              "    </tr>\n",
              "    <tr>\n",
              "      <th>9</th>\n",
              "      <td>2018-09-14</td>\n",
              "      <td>223.45</td>\n",
              "      <td>236.70</td>\n",
              "      <td>223.30</td>\n",
              "      <td>234.00</td>\n",
              "      <td>233.95</td>\n",
              "      <td>6377909</td>\n",
              "      <td>14784.50</td>\n",
              "    </tr>\n",
              "  </tbody>\n",
              "</table>\n",
              "</div>"
            ],
            "text/plain": [
              "         Date    Open    High  ...   Close  Total Trade Quantity  Turnover (Lacs)\n",
              "0  2018-09-28  234.05  235.95  ...  233.75               3069914          7162.35\n",
              "1  2018-09-27  234.55  236.80  ...  233.25               5082859         11859.95\n",
              "2  2018-09-26  240.00  240.00  ...  234.25               2240909          5248.60\n",
              "3  2018-09-25  233.30  236.75  ...  236.10               2349368          5503.90\n",
              "4  2018-09-24  233.55  239.20  ...  233.30               3423509          7999.55\n",
              "5  2018-09-21  235.00  237.00  ...  234.60               5395319         12589.59\n",
              "6  2018-09-19  235.95  237.20  ...  234.90               1362058          3202.78\n",
              "7  2018-09-18  237.90  239.25  ...  235.05               2614794          6163.70\n",
              "8  2018-09-17  233.15  238.00  ...  236.60               3170894          7445.41\n",
              "9  2018-09-14  223.45  236.70  ...  233.95               6377909         14784.50\n",
              "\n",
              "[10 rows x 8 columns]"
            ]
          },
          "metadata": {},
          "execution_count": 119
        }
      ]
    },
    {
      "cell_type": "code",
      "metadata": {
        "colab": {
          "base_uri": "https://localhost:8080/",
          "height": 357
        },
        "id": "eJeTJkQfWhZB",
        "outputId": "0a4d1bdb-ea83-491e-99ac-c160b0f942b1"
      },
      "source": [
        "df.tail(10)"
      ],
      "execution_count": 120,
      "outputs": [
        {
          "output_type": "execute_result",
          "data": {
            "text/html": [
              "<div>\n",
              "<style scoped>\n",
              "    .dataframe tbody tr th:only-of-type {\n",
              "        vertical-align: middle;\n",
              "    }\n",
              "\n",
              "    .dataframe tbody tr th {\n",
              "        vertical-align: top;\n",
              "    }\n",
              "\n",
              "    .dataframe thead th {\n",
              "        text-align: right;\n",
              "    }\n",
              "</style>\n",
              "<table border=\"1\" class=\"dataframe\">\n",
              "  <thead>\n",
              "    <tr style=\"text-align: right;\">\n",
              "      <th></th>\n",
              "      <th>Date</th>\n",
              "      <th>Open</th>\n",
              "      <th>High</th>\n",
              "      <th>Low</th>\n",
              "      <th>Last</th>\n",
              "      <th>Close</th>\n",
              "      <th>Total Trade Quantity</th>\n",
              "      <th>Turnover (Lacs)</th>\n",
              "    </tr>\n",
              "  </thead>\n",
              "  <tbody>\n",
              "    <tr>\n",
              "      <th>2025</th>\n",
              "      <td>2010-08-03</td>\n",
              "      <td>118.3</td>\n",
              "      <td>119.95</td>\n",
              "      <td>117.90</td>\n",
              "      <td>118.65</td>\n",
              "      <td>118.30</td>\n",
              "      <td>611234</td>\n",
              "      <td>726.78</td>\n",
              "    </tr>\n",
              "    <tr>\n",
              "      <th>2026</th>\n",
              "      <td>2010-08-02</td>\n",
              "      <td>117.3</td>\n",
              "      <td>118.50</td>\n",
              "      <td>116.60</td>\n",
              "      <td>118.10</td>\n",
              "      <td>117.30</td>\n",
              "      <td>663593</td>\n",
              "      <td>779.85</td>\n",
              "    </tr>\n",
              "    <tr>\n",
              "      <th>2027</th>\n",
              "      <td>2010-07-30</td>\n",
              "      <td>116.5</td>\n",
              "      <td>118.00</td>\n",
              "      <td>114.60</td>\n",
              "      <td>115.85</td>\n",
              "      <td>116.05</td>\n",
              "      <td>2656191</td>\n",
              "      <td>3112.68</td>\n",
              "    </tr>\n",
              "    <tr>\n",
              "      <th>2028</th>\n",
              "      <td>2010-07-29</td>\n",
              "      <td>112.5</td>\n",
              "      <td>121.70</td>\n",
              "      <td>112.50</td>\n",
              "      <td>117.50</td>\n",
              "      <td>116.60</td>\n",
              "      <td>2359134</td>\n",
              "      <td>2791.03</td>\n",
              "    </tr>\n",
              "    <tr>\n",
              "      <th>2029</th>\n",
              "      <td>2010-07-28</td>\n",
              "      <td>118.0</td>\n",
              "      <td>120.50</td>\n",
              "      <td>117.20</td>\n",
              "      <td>118.15</td>\n",
              "      <td>118.25</td>\n",
              "      <td>835593</td>\n",
              "      <td>994.01</td>\n",
              "    </tr>\n",
              "    <tr>\n",
              "      <th>2030</th>\n",
              "      <td>2010-07-27</td>\n",
              "      <td>117.6</td>\n",
              "      <td>119.50</td>\n",
              "      <td>112.00</td>\n",
              "      <td>118.80</td>\n",
              "      <td>118.65</td>\n",
              "      <td>586100</td>\n",
              "      <td>694.98</td>\n",
              "    </tr>\n",
              "    <tr>\n",
              "      <th>2031</th>\n",
              "      <td>2010-07-26</td>\n",
              "      <td>120.1</td>\n",
              "      <td>121.00</td>\n",
              "      <td>117.10</td>\n",
              "      <td>117.10</td>\n",
              "      <td>117.60</td>\n",
              "      <td>658440</td>\n",
              "      <td>780.01</td>\n",
              "    </tr>\n",
              "    <tr>\n",
              "      <th>2032</th>\n",
              "      <td>2010-07-23</td>\n",
              "      <td>121.8</td>\n",
              "      <td>121.95</td>\n",
              "      <td>120.25</td>\n",
              "      <td>120.35</td>\n",
              "      <td>120.65</td>\n",
              "      <td>281312</td>\n",
              "      <td>340.31</td>\n",
              "    </tr>\n",
              "    <tr>\n",
              "      <th>2033</th>\n",
              "      <td>2010-07-22</td>\n",
              "      <td>120.3</td>\n",
              "      <td>122.00</td>\n",
              "      <td>120.25</td>\n",
              "      <td>120.75</td>\n",
              "      <td>120.90</td>\n",
              "      <td>293312</td>\n",
              "      <td>355.17</td>\n",
              "    </tr>\n",
              "    <tr>\n",
              "      <th>2034</th>\n",
              "      <td>2010-07-21</td>\n",
              "      <td>122.1</td>\n",
              "      <td>123.00</td>\n",
              "      <td>121.05</td>\n",
              "      <td>121.10</td>\n",
              "      <td>121.55</td>\n",
              "      <td>658666</td>\n",
              "      <td>803.56</td>\n",
              "    </tr>\n",
              "  </tbody>\n",
              "</table>\n",
              "</div>"
            ],
            "text/plain": [
              "            Date   Open    High  ...   Close  Total Trade Quantity  Turnover (Lacs)\n",
              "2025  2010-08-03  118.3  119.95  ...  118.30                611234           726.78\n",
              "2026  2010-08-02  117.3  118.50  ...  117.30                663593           779.85\n",
              "2027  2010-07-30  116.5  118.00  ...  116.05               2656191          3112.68\n",
              "2028  2010-07-29  112.5  121.70  ...  116.60               2359134          2791.03\n",
              "2029  2010-07-28  118.0  120.50  ...  118.25                835593           994.01\n",
              "2030  2010-07-27  117.6  119.50  ...  118.65                586100           694.98\n",
              "2031  2010-07-26  120.1  121.00  ...  117.60                658440           780.01\n",
              "2032  2010-07-23  121.8  121.95  ...  120.65                281312           340.31\n",
              "2033  2010-07-22  120.3  122.00  ...  120.90                293312           355.17\n",
              "2034  2010-07-21  122.1  123.00  ...  121.55                658666           803.56\n",
              "\n",
              "[10 rows x 8 columns]"
            ]
          },
          "metadata": {},
          "execution_count": 120
        }
      ]
    },
    {
      "cell_type": "code",
      "metadata": {
        "id": "cCggiwbG8Ix4"
      },
      "source": [
        "df=df.sort_values(by='Date',ascending=True) # sorting the data according to date"
      ],
      "execution_count": 184,
      "outputs": []
    },
    {
      "cell_type": "code",
      "metadata": {
        "colab": {
          "base_uri": "https://localhost:8080/",
          "height": 417
        },
        "id": "XW0v7Re98VlR",
        "outputId": "4e9d7e64-4210-42e0-c471-af37731c253a"
      },
      "source": [
        "df"
      ],
      "execution_count": 176,
      "outputs": [
        {
          "output_type": "execute_result",
          "data": {
            "text/html": [
              "<div>\n",
              "<style scoped>\n",
              "    .dataframe tbody tr th:only-of-type {\n",
              "        vertical-align: middle;\n",
              "    }\n",
              "\n",
              "    .dataframe tbody tr th {\n",
              "        vertical-align: top;\n",
              "    }\n",
              "\n",
              "    .dataframe thead th {\n",
              "        text-align: right;\n",
              "    }\n",
              "</style>\n",
              "<table border=\"1\" class=\"dataframe\">\n",
              "  <thead>\n",
              "    <tr style=\"text-align: right;\">\n",
              "      <th></th>\n",
              "      <th>Date</th>\n",
              "      <th>Open</th>\n",
              "      <th>High</th>\n",
              "      <th>Low</th>\n",
              "      <th>Last</th>\n",
              "      <th>Close</th>\n",
              "      <th>Total Trade Quantity</th>\n",
              "      <th>Turnover (Lacs)</th>\n",
              "    </tr>\n",
              "  </thead>\n",
              "  <tbody>\n",
              "    <tr>\n",
              "      <th>2034</th>\n",
              "      <td>2010-07-21</td>\n",
              "      <td>122.10</td>\n",
              "      <td>123.00</td>\n",
              "      <td>121.05</td>\n",
              "      <td>121.10</td>\n",
              "      <td>121.55</td>\n",
              "      <td>658666</td>\n",
              "      <td>803.56</td>\n",
              "    </tr>\n",
              "    <tr>\n",
              "      <th>2033</th>\n",
              "      <td>2010-07-22</td>\n",
              "      <td>120.30</td>\n",
              "      <td>122.00</td>\n",
              "      <td>120.25</td>\n",
              "      <td>120.75</td>\n",
              "      <td>120.90</td>\n",
              "      <td>293312</td>\n",
              "      <td>355.17</td>\n",
              "    </tr>\n",
              "    <tr>\n",
              "      <th>2032</th>\n",
              "      <td>2010-07-23</td>\n",
              "      <td>121.80</td>\n",
              "      <td>121.95</td>\n",
              "      <td>120.25</td>\n",
              "      <td>120.35</td>\n",
              "      <td>120.65</td>\n",
              "      <td>281312</td>\n",
              "      <td>340.31</td>\n",
              "    </tr>\n",
              "    <tr>\n",
              "      <th>2031</th>\n",
              "      <td>2010-07-26</td>\n",
              "      <td>120.10</td>\n",
              "      <td>121.00</td>\n",
              "      <td>117.10</td>\n",
              "      <td>117.10</td>\n",
              "      <td>117.60</td>\n",
              "      <td>658440</td>\n",
              "      <td>780.01</td>\n",
              "    </tr>\n",
              "    <tr>\n",
              "      <th>2030</th>\n",
              "      <td>2010-07-27</td>\n",
              "      <td>117.60</td>\n",
              "      <td>119.50</td>\n",
              "      <td>112.00</td>\n",
              "      <td>118.80</td>\n",
              "      <td>118.65</td>\n",
              "      <td>586100</td>\n",
              "      <td>694.98</td>\n",
              "    </tr>\n",
              "    <tr>\n",
              "      <th>...</th>\n",
              "      <td>...</td>\n",
              "      <td>...</td>\n",
              "      <td>...</td>\n",
              "      <td>...</td>\n",
              "      <td>...</td>\n",
              "      <td>...</td>\n",
              "      <td>...</td>\n",
              "      <td>...</td>\n",
              "    </tr>\n",
              "    <tr>\n",
              "      <th>4</th>\n",
              "      <td>2018-09-24</td>\n",
              "      <td>233.55</td>\n",
              "      <td>239.20</td>\n",
              "      <td>230.75</td>\n",
              "      <td>234.00</td>\n",
              "      <td>233.30</td>\n",
              "      <td>3423509</td>\n",
              "      <td>7999.55</td>\n",
              "    </tr>\n",
              "    <tr>\n",
              "      <th>3</th>\n",
              "      <td>2018-09-25</td>\n",
              "      <td>233.30</td>\n",
              "      <td>236.75</td>\n",
              "      <td>232.00</td>\n",
              "      <td>236.25</td>\n",
              "      <td>236.10</td>\n",
              "      <td>2349368</td>\n",
              "      <td>5503.90</td>\n",
              "    </tr>\n",
              "    <tr>\n",
              "      <th>2</th>\n",
              "      <td>2018-09-26</td>\n",
              "      <td>240.00</td>\n",
              "      <td>240.00</td>\n",
              "      <td>232.50</td>\n",
              "      <td>235.00</td>\n",
              "      <td>234.25</td>\n",
              "      <td>2240909</td>\n",
              "      <td>5248.60</td>\n",
              "    </tr>\n",
              "    <tr>\n",
              "      <th>1</th>\n",
              "      <td>2018-09-27</td>\n",
              "      <td>234.55</td>\n",
              "      <td>236.80</td>\n",
              "      <td>231.10</td>\n",
              "      <td>233.80</td>\n",
              "      <td>233.25</td>\n",
              "      <td>5082859</td>\n",
              "      <td>11859.95</td>\n",
              "    </tr>\n",
              "    <tr>\n",
              "      <th>0</th>\n",
              "      <td>2018-09-28</td>\n",
              "      <td>234.05</td>\n",
              "      <td>235.95</td>\n",
              "      <td>230.20</td>\n",
              "      <td>233.50</td>\n",
              "      <td>233.75</td>\n",
              "      <td>3069914</td>\n",
              "      <td>7162.35</td>\n",
              "    </tr>\n",
              "  </tbody>\n",
              "</table>\n",
              "<p>2035 rows × 8 columns</p>\n",
              "</div>"
            ],
            "text/plain": [
              "            Date    Open    High  ...   Close  Total Trade Quantity  Turnover (Lacs)\n",
              "2034  2010-07-21  122.10  123.00  ...  121.55                658666           803.56\n",
              "2033  2010-07-22  120.30  122.00  ...  120.90                293312           355.17\n",
              "2032  2010-07-23  121.80  121.95  ...  120.65                281312           340.31\n",
              "2031  2010-07-26  120.10  121.00  ...  117.60                658440           780.01\n",
              "2030  2010-07-27  117.60  119.50  ...  118.65                586100           694.98\n",
              "...          ...     ...     ...  ...     ...                   ...              ...\n",
              "4     2018-09-24  233.55  239.20  ...  233.30               3423509          7999.55\n",
              "3     2018-09-25  233.30  236.75  ...  236.10               2349368          5503.90\n",
              "2     2018-09-26  240.00  240.00  ...  234.25               2240909          5248.60\n",
              "1     2018-09-27  234.55  236.80  ...  233.25               5082859         11859.95\n",
              "0     2018-09-28  234.05  235.95  ...  233.75               3069914          7162.35\n",
              "\n",
              "[2035 rows x 8 columns]"
            ]
          },
          "metadata": {},
          "execution_count": 176
        }
      ]
    },
    {
      "cell_type": "code",
      "metadata": {
        "colab": {
          "base_uri": "https://localhost:8080/"
        },
        "id": "v3zSer--VtXK",
        "outputId": "cc560906-dbd8-4361-a400-af2d6916877a"
      },
      "source": [
        "df.shape"
      ],
      "execution_count": 169,
      "outputs": [
        {
          "output_type": "execute_result",
          "data": {
            "text/plain": [
              "(2035, 8)"
            ]
          },
          "metadata": {},
          "execution_count": 169
        }
      ]
    },
    {
      "cell_type": "markdown",
      "metadata": {
        "id": "tm-YLW2t9nsk"
      },
      "source": [
        "**Some basic information about the dataset**"
      ]
    },
    {
      "cell_type": "code",
      "metadata": {
        "colab": {
          "base_uri": "https://localhost:8080/"
        },
        "id": "tLsxeyWUVywL",
        "outputId": "1b6a1de4-a2ae-4496-a7ce-77e7914c3fe1"
      },
      "source": [
        "df.isnull().sum()"
      ],
      "execution_count": 177,
      "outputs": [
        {
          "output_type": "execute_result",
          "data": {
            "text/plain": [
              "Date                    0\n",
              "Open                    0\n",
              "High                    0\n",
              "Low                     0\n",
              "Last                    0\n",
              "Close                   0\n",
              "Total Trade Quantity    0\n",
              "Turnover (Lacs)         0\n",
              "dtype: int64"
            ]
          },
          "metadata": {},
          "execution_count": 177
        }
      ]
    },
    {
      "cell_type": "markdown",
      "metadata": {
        "id": "tSDioRvfUkK4"
      },
      "source": [
        "There is no null values."
      ]
    },
    {
      "cell_type": "code",
      "metadata": {
        "colab": {
          "base_uri": "https://localhost:8080/"
        },
        "id": "eu4vki9SWHlJ",
        "outputId": "4257a68e-99ab-4416-e251-fb97596d4258"
      },
      "source": [
        "df.dtypes"
      ],
      "execution_count": 178,
      "outputs": [
        {
          "output_type": "execute_result",
          "data": {
            "text/plain": [
              "Date                     object\n",
              "Open                    float64\n",
              "High                    float64\n",
              "Low                     float64\n",
              "Last                    float64\n",
              "Close                   float64\n",
              "Total Trade Quantity      int64\n",
              "Turnover (Lacs)         float64\n",
              "dtype: object"
            ]
          },
          "metadata": {},
          "execution_count": 178
        }
      ]
    },
    {
      "cell_type": "code",
      "metadata": {
        "colab": {
          "base_uri": "https://localhost:8080/"
        },
        "id": "2Q046PKnWDLB",
        "outputId": "8041c46c-cfc2-4b59-b59e-57a8d1039254"
      },
      "source": [
        "df.info()"
      ],
      "execution_count": 172,
      "outputs": [
        {
          "output_type": "stream",
          "name": "stdout",
          "text": [
            "<class 'pandas.core.frame.DataFrame'>\n",
            "Int64Index: 2035 entries, 2034 to 0\n",
            "Data columns (total 8 columns):\n",
            " #   Column                Non-Null Count  Dtype  \n",
            "---  ------                --------------  -----  \n",
            " 0   Date                  2035 non-null   object \n",
            " 1   Open                  2035 non-null   float64\n",
            " 2   High                  2035 non-null   float64\n",
            " 3   Low                   2035 non-null   float64\n",
            " 4   Last                  2035 non-null   float64\n",
            " 5   Close                 2035 non-null   float64\n",
            " 6   Total Trade Quantity  2035 non-null   int64  \n",
            " 7   Turnover (Lacs)       2035 non-null   float64\n",
            "dtypes: float64(6), int64(1), object(1)\n",
            "memory usage: 143.1+ KB\n"
          ]
        }
      ]
    },
    {
      "cell_type": "code",
      "metadata": {
        "colab": {
          "base_uri": "https://localhost:8080/",
          "height": 295
        },
        "id": "YjPnZiHYV-dA",
        "outputId": "dea02009-e981-4c26-e274-a173bb7bd65a"
      },
      "source": [
        "df.describe()"
      ],
      "execution_count": 173,
      "outputs": [
        {
          "output_type": "execute_result",
          "data": {
            "text/html": [
              "<div>\n",
              "<style scoped>\n",
              "    .dataframe tbody tr th:only-of-type {\n",
              "        vertical-align: middle;\n",
              "    }\n",
              "\n",
              "    .dataframe tbody tr th {\n",
              "        vertical-align: top;\n",
              "    }\n",
              "\n",
              "    .dataframe thead th {\n",
              "        text-align: right;\n",
              "    }\n",
              "</style>\n",
              "<table border=\"1\" class=\"dataframe\">\n",
              "  <thead>\n",
              "    <tr style=\"text-align: right;\">\n",
              "      <th></th>\n",
              "      <th>Open</th>\n",
              "      <th>High</th>\n",
              "      <th>Low</th>\n",
              "      <th>Last</th>\n",
              "      <th>Close</th>\n",
              "      <th>Total Trade Quantity</th>\n",
              "      <th>Turnover (Lacs)</th>\n",
              "    </tr>\n",
              "  </thead>\n",
              "  <tbody>\n",
              "    <tr>\n",
              "      <th>count</th>\n",
              "      <td>2035.000000</td>\n",
              "      <td>2035.000000</td>\n",
              "      <td>2035.000000</td>\n",
              "      <td>2035.000000</td>\n",
              "      <td>2035.00000</td>\n",
              "      <td>2.035000e+03</td>\n",
              "      <td>2035.000000</td>\n",
              "    </tr>\n",
              "    <tr>\n",
              "      <th>mean</th>\n",
              "      <td>149.713735</td>\n",
              "      <td>151.992826</td>\n",
              "      <td>147.293931</td>\n",
              "      <td>149.474251</td>\n",
              "      <td>149.45027</td>\n",
              "      <td>2.335681e+06</td>\n",
              "      <td>3899.980565</td>\n",
              "    </tr>\n",
              "    <tr>\n",
              "      <th>std</th>\n",
              "      <td>48.664509</td>\n",
              "      <td>49.413109</td>\n",
              "      <td>47.931958</td>\n",
              "      <td>48.732570</td>\n",
              "      <td>48.71204</td>\n",
              "      <td>2.091778e+06</td>\n",
              "      <td>4570.767877</td>\n",
              "    </tr>\n",
              "    <tr>\n",
              "      <th>min</th>\n",
              "      <td>81.100000</td>\n",
              "      <td>82.800000</td>\n",
              "      <td>80.000000</td>\n",
              "      <td>81.000000</td>\n",
              "      <td>80.95000</td>\n",
              "      <td>3.961000e+04</td>\n",
              "      <td>37.040000</td>\n",
              "    </tr>\n",
              "    <tr>\n",
              "      <th>25%</th>\n",
              "      <td>120.025000</td>\n",
              "      <td>122.100000</td>\n",
              "      <td>118.300000</td>\n",
              "      <td>120.075000</td>\n",
              "      <td>120.05000</td>\n",
              "      <td>1.146444e+06</td>\n",
              "      <td>1427.460000</td>\n",
              "    </tr>\n",
              "    <tr>\n",
              "      <th>50%</th>\n",
              "      <td>141.500000</td>\n",
              "      <td>143.400000</td>\n",
              "      <td>139.600000</td>\n",
              "      <td>141.100000</td>\n",
              "      <td>141.25000</td>\n",
              "      <td>1.783456e+06</td>\n",
              "      <td>2512.030000</td>\n",
              "    </tr>\n",
              "    <tr>\n",
              "      <th>75%</th>\n",
              "      <td>157.175000</td>\n",
              "      <td>159.400000</td>\n",
              "      <td>155.150000</td>\n",
              "      <td>156.925000</td>\n",
              "      <td>156.90000</td>\n",
              "      <td>2.813594e+06</td>\n",
              "      <td>4539.015000</td>\n",
              "    </tr>\n",
              "    <tr>\n",
              "      <th>max</th>\n",
              "      <td>327.700000</td>\n",
              "      <td>328.750000</td>\n",
              "      <td>321.650000</td>\n",
              "      <td>325.950000</td>\n",
              "      <td>325.75000</td>\n",
              "      <td>2.919102e+07</td>\n",
              "      <td>55755.080000</td>\n",
              "    </tr>\n",
              "  </tbody>\n",
              "</table>\n",
              "</div>"
            ],
            "text/plain": [
              "              Open         High  ...  Total Trade Quantity  Turnover (Lacs)\n",
              "count  2035.000000  2035.000000  ...          2.035000e+03      2035.000000\n",
              "mean    149.713735   151.992826  ...          2.335681e+06      3899.980565\n",
              "std      48.664509    49.413109  ...          2.091778e+06      4570.767877\n",
              "min      81.100000    82.800000  ...          3.961000e+04        37.040000\n",
              "25%     120.025000   122.100000  ...          1.146444e+06      1427.460000\n",
              "50%     141.500000   143.400000  ...          1.783456e+06      2512.030000\n",
              "75%     157.175000   159.400000  ...          2.813594e+06      4539.015000\n",
              "max     327.700000   328.750000  ...          2.919102e+07     55755.080000\n",
              "\n",
              "[8 rows x 7 columns]"
            ]
          },
          "metadata": {},
          "execution_count": 173
        }
      ]
    },
    {
      "cell_type": "markdown",
      "metadata": {
        "id": "PD2RhRZIak-h"
      },
      "source": [
        "**We only take 'close' column and this particular price will be doing stock prediction**"
      ]
    },
    {
      "cell_type": "code",
      "metadata": {
        "id": "X5sbc9U0wON3"
      },
      "source": [
        "#picked up the 'close' columns and resest it's index\n",
        "df1=df.reset_index()['Close']"
      ],
      "execution_count": 180,
      "outputs": []
    },
    {
      "cell_type": "code",
      "metadata": {
        "colab": {
          "base_uri": "https://localhost:8080/"
        },
        "id": "LxoykS4hViRF",
        "outputId": "edcb92cd-25e7-486a-f05b-886ad3b4eb07"
      },
      "source": [
        "df1.shape"
      ],
      "execution_count": 181,
      "outputs": [
        {
          "output_type": "execute_result",
          "data": {
            "text/plain": [
              "(2035,)"
            ]
          },
          "metadata": {},
          "execution_count": 181
        }
      ]
    },
    {
      "cell_type": "code",
      "metadata": {
        "id": "6fzdlwtQa8c9",
        "colab": {
          "base_uri": "https://localhost:8080/"
        },
        "outputId": "822a1428-555e-42d3-924c-d090f58f737a"
      },
      "source": [
        "df1"
      ],
      "execution_count": 185,
      "outputs": [
        {
          "output_type": "execute_result",
          "data": {
            "text/plain": [
              "0       121.55\n",
              "1       120.90\n",
              "2       120.65\n",
              "3       117.60\n",
              "4       118.65\n",
              "         ...  \n",
              "2030    233.30\n",
              "2031    236.10\n",
              "2032    234.25\n",
              "2033    233.25\n",
              "2034    233.75\n",
              "Name: Close, Length: 2035, dtype: float64"
            ]
          },
          "metadata": {},
          "execution_count": 185
        }
      ]
    },
    {
      "cell_type": "code",
      "metadata": {
        "colab": {
          "base_uri": "https://localhost:8080/",
          "height": 521
        },
        "id": "Kc5jKV4w6cLQ",
        "outputId": "25a07805-3293-42b0-ebdc-00705351064d"
      },
      "source": [
        "# Visualising the closing price history\n",
        "import matplotlib.pyplot as plt\n",
        "plt.figure(figsize=(16,8))\n",
        "plt.title('Close price history')\n",
        "plt.plot(df1)\n",
        "plt.xlabel('Date',fontsize=18)\n",
        "plt.ylabel('Close Price',fontsize=18)\n",
        "plt.show()"
      ],
      "execution_count": 183,
      "outputs": [
        {
          "output_type": "display_data",
          "data": {
            "image/png": "[encoded data removed]",
            "text/plain": [
              "<Figure size 1152x576 with 1 Axes>"
            ]
          },
          "metadata": {
            "needs_background": "light"
          }
        }
      ]
    },
    {
      "cell_type": "markdown",
      "metadata": {
        "id": "fAchkBnP8Jp_"
      },
      "source": [
        "**LSTM are sensitive to the scale of the data.So we apply MinMaxScaler(For normalization)**"
      ]
    },
    {
      "cell_type": "code",
      "metadata": {
        "id": "xHRFAxGK8MJA"
      },
      "source": [
        "import numpy as np\n",
        "from sklearn.preprocessing import MinMaxScaler\n",
        "scaler=MinMaxScaler(feature_range=(0,1)) # normalize all the values in between 0 to 1 \n",
        "df1=scaler.fit_transform(np.array(df1).reshape(-1,1)) # It will show the dataset as an array"
      ],
      "execution_count": 186,
      "outputs": []
    },
    {
      "cell_type": "code",
      "metadata": {
        "colab": {
          "base_uri": "https://localhost:8080/"
        },
        "id": "JnlUD3KG8yfY",
        "outputId": "f71e23ab-54c3-4fa6-cd06-3bceffed248a"
      },
      "source": [
        "df1.shape"
      ],
      "execution_count": 187,
      "outputs": [
        {
          "output_type": "execute_result",
          "data": {
            "text/plain": [
              "(2035, 1)"
            ]
          },
          "metadata": {},
          "execution_count": 187
        }
      ]
    },
    {
      "cell_type": "code",
      "metadata": {
        "colab": {
          "base_uri": "https://localhost:8080/"
        },
        "id": "riRMcpW79Ugr",
        "outputId": "b09c5996-44d0-4ff0-c5e9-9a1d9196ce35"
      },
      "source": [
        "df1"
      ],
      "execution_count": 188,
      "outputs": [
        {
          "output_type": "execute_result",
          "data": {
            "text/plain": [
              "array([[0.16584967],\n",
              "       [0.16319444],\n",
              "       [0.1621732 ],\n",
              "       ...,\n",
              "       [0.62622549],\n",
              "       [0.62214052],\n",
              "       [0.62418301]])"
            ]
          },
          "metadata": {},
          "execution_count": 188
        }
      ]
    },
    {
      "cell_type": "markdown",
      "metadata": {
        "id": "JuRkd6HVFToV"
      },
      "source": [
        "**Preprocessing of the dataset**"
      ]
    },
    {
      "cell_type": "markdown",
      "metadata": {
        "id": "w2LqiEXS-gGm"
      },
      "source": [
        "***Splitting the dataset into train and test split***"
      ]
    },
    {
      "cell_type": "code",
      "metadata": {
        "id": "i8a3a4xY9I0f"
      },
      "source": [
        "training_size=int(len(df1)*0.65)\n",
        "test_size=len(df1)-training_size\n",
        "train_data,test_data=df1[0:training_size,:],df1[training_size:len(df1),:1]"
      ],
      "execution_count": 189,
      "outputs": []
    },
    {
      "cell_type": "code",
      "metadata": {
        "colab": {
          "base_uri": "https://localhost:8080/"
        },
        "id": "h7SYHk1n-aN_",
        "outputId": "c328f9f2-0b99-4042-83a1-10e92498f3b2"
      },
      "source": [
        "training_size,test_size"
      ],
      "execution_count": 190,
      "outputs": [
        {
          "output_type": "execute_result",
          "data": {
            "text/plain": [
              "(1322, 713)"
            ]
          },
          "metadata": {},
          "execution_count": 190
        }
      ]
    },
    {
      "cell_type": "code",
      "metadata": {
        "colab": {
          "base_uri": "https://localhost:8080/"
        },
        "id": "2s3zaW7j-a2w",
        "outputId": "4e5e7969-2983-40a3-d69e-66fd8d51db51"
      },
      "source": [
        "train_data"
      ],
      "execution_count": 191,
      "outputs": [
        {
          "output_type": "execute_result",
          "data": {
            "text/plain": [
              "array([[0.16584967],\n",
              "       [0.16319444],\n",
              "       [0.1621732 ],\n",
              "       ...,\n",
              "       [0.19546569],\n",
              "       [0.18280229],\n",
              "       [0.19178922]])"
            ]
          },
          "metadata": {},
          "execution_count": 191
        }
      ]
    },
    {
      "cell_type": "code",
      "metadata": {
        "id": "40rbvUJf-bPo"
      },
      "source": [
        "# covert an array of values into a dataset matrix\n",
        "import numpy as np\n",
        "def create_dataset(dataset,time_step=1):\n",
        "  dataX,dataY=[],[]\n",
        "  for i in range(len(dataset)-time_step-1):\n",
        "    a=dataset[i:(i+time_step),0] ###i=0,0,1,2,3,.....,99 100\n",
        "    dataX.append(a)\n",
        "    dataY.append(dataset[i+time_step,0])\n",
        "  return np.array(dataX),np.array(dataY) "
      ],
      "execution_count": 192,
      "outputs": []
    },
    {
      "cell_type": "code",
      "metadata": {
        "id": "dEcUTLgj_uKp"
      },
      "source": [
        "# reshape into X=t,t+1,t+2,t+3 and Y=t+4\n",
        "time_step=100\n",
        "x_train,y_train=create_dataset(train_data,time_step)\n",
        "x_test,y_test=create_dataset(test_data,time_step)"
      ],
      "execution_count": 193,
      "outputs": []
    },
    {
      "cell_type": "code",
      "metadata": {
        "colab": {
          "base_uri": "https://localhost:8080/"
        },
        "id": "hw65K92n_ugi",
        "outputId": "fbe70b13-1e38-459d-be2b-633d7494723c"
      },
      "source": [
        "print(x_train)"
      ],
      "execution_count": 194,
      "outputs": [
        {
          "output_type": "stream",
          "name": "stdout",
          "text": [
            "[[0.16584967 0.16319444 0.1621732  ... 0.14011438 0.13848039 0.12479575]\n",
            " [0.16319444 0.1621732  0.14971405 ... 0.13848039 0.12479575 0.12254902]\n",
            " [0.1621732  0.14971405 0.15400327 ... 0.12479575 0.12254902 0.13010621]\n",
            " ...\n",
            " [0.19669118 0.19505719 0.20996732 ... 0.20751634 0.20751634 0.19219771]\n",
            " [0.19505719 0.20996732 0.21098856 ... 0.20751634 0.19219771 0.18341503]\n",
            " [0.20996732 0.21098856 0.21568627 ... 0.19219771 0.18341503 0.19546569]]\n"
          ]
        }
      ]
    },
    {
      "cell_type": "code",
      "metadata": {
        "colab": {
          "base_uri": "https://localhost:8080/"
        },
        "id": "v776s0UQD90G",
        "outputId": "200b25f0-b6e0-4f16-9583-29d68be537e7"
      },
      "source": [
        "print(x_train.shape)"
      ],
      "execution_count": 195,
      "outputs": [
        {
          "output_type": "stream",
          "name": "stdout",
          "text": [
            "(1221, 100)\n"
          ]
        }
      ]
    },
    {
      "cell_type": "code",
      "metadata": {
        "colab": {
          "base_uri": "https://localhost:8080/"
        },
        "id": "VaYmJidsE-ua",
        "outputId": "fb1d6243-5493-4c37-bcfc-233ee0c44dee"
      },
      "source": [
        "print(y_train)"
      ],
      "execution_count": 196,
      "outputs": [
        {
          "output_type": "stream",
          "name": "stdout",
          "text": [
            "[0.12254902 0.13010621 0.13541667 ... 0.18341503 0.19546569 0.18280229]\n"
          ]
        }
      ]
    },
    {
      "cell_type": "code",
      "metadata": {
        "colab": {
          "base_uri": "https://localhost:8080/"
        },
        "id": "4siVuZ5mFGkY",
        "outputId": "a3215f6a-f06c-4af2-8f19-af0fc6ba1ba3"
      },
      "source": [
        "print(y_train.shape)"
      ],
      "execution_count": 197,
      "outputs": [
        {
          "output_type": "stream",
          "name": "stdout",
          "text": [
            "(1221,)\n"
          ]
        }
      ]
    },
    {
      "cell_type": "markdown",
      "metadata": {
        "id": "MX9JeYVcFvyz"
      },
      "source": [
        "*Reshaping input to be[samples,time_steps,features] which is required for LSTM*"
      ]
    },
    {
      "cell_type": "code",
      "metadata": {
        "id": "291_lkdWFLwb"
      },
      "source": [
        "x_train=x_train.reshape(x_train.shape[0],x_train.shape[1],1)\n",
        "x_test=x_test.reshape(x_test.shape[0],x_test.shape[1],1)"
      ],
      "execution_count": 198,
      "outputs": []
    },
    {
      "cell_type": "markdown",
      "metadata": {
        "id": "-nXtBnhmHNvo"
      },
      "source": [
        "**Create the Stacked LSTM model**"
      ]
    },
    {
      "cell_type": "code",
      "metadata": {
        "id": "21E_sCCQGf8i"
      },
      "source": [
        "from tensorflow.keras.models import Sequential\n",
        "from tensorflow.keras.layers import Dense\n",
        "from tensorflow.keras.layers import LSTM"
      ],
      "execution_count": 199,
      "outputs": []
    },
    {
      "cell_type": "code",
      "metadata": {
        "id": "IPZijly7Ht1J"
      },
      "source": [
        "model=Sequential()\n",
        "model.add(LSTM(50,return_sequences=True,input_shape=(100,1)))\n",
        "model.add(LSTM(50,return_sequences=True))\n",
        "model.add(LSTM(50))\n",
        "model.add(Dense(1))\n",
        "model.compile(loss='mean_squared_error',optimizer='adam')"
      ],
      "execution_count": 200,
      "outputs": []
    },
    {
      "cell_type": "code",
      "metadata": {
        "colab": {
          "base_uri": "https://localhost:8080/"
        },
        "id": "Q-6Bb_F4Ildx",
        "outputId": "398d7dd9-1f26-48ae-c43d-3b188378ae90"
      },
      "source": [
        "model.summary()"
      ],
      "execution_count": 201,
      "outputs": [
        {
          "output_type": "stream",
          "name": "stdout",
          "text": [
            "Model: \"sequential_3\"\n",
            "_________________________________________________________________\n",
            "Layer (type)                 Output Shape              Param #   \n",
            "=================================================================\n",
            "lstm_9 (LSTM)                (None, 100, 50)           10400     \n",
            "_________________________________________________________________\n",
            "lstm_10 (LSTM)               (None, 100, 50)           20200     \n",
            "_________________________________________________________________\n",
            "lstm_11 (LSTM)               (None, 50)                20200     \n",
            "_________________________________________________________________\n",
            "dense_3 (Dense)              (None, 1)                 51        \n",
            "=================================================================\n",
            "Total params: 50,851\n",
            "Trainable params: 50,851\n",
            "Non-trainable params: 0\n",
            "_________________________________________________________________\n"
          ]
        }
      ]
    },
    {
      "cell_type": "code",
      "metadata": {
        "colab": {
          "base_uri": "https://localhost:8080/"
        },
        "id": "U7jvixVWIpvR",
        "outputId": "817e9373-3725-431b-c9fb-287066fb6e5c"
      },
      "source": [
        "model.fit(x_train,y_train,validation_data=(x_test,y_test),epochs=100,batch_size=64,verbose=1)"
      ],
      "execution_count": 202,
      "outputs": [
        {
          "output_type": "stream",
          "name": "stdout",
          "text": [
            "Epoch 1/100\n",
            "20/20 [==============================] - 10s 252ms/step - loss: 0.0105 - val_loss: 0.0197\n",
            "Epoch 2/100\n",
            "20/20 [==============================] - 4s 197ms/step - loss: 0.0016 - val_loss: 0.0047\n",
            "Epoch 3/100\n",
            "20/20 [==============================] - 4s 195ms/step - loss: 9.2568e-04 - val_loss: 0.0058\n",
            "Epoch 4/100\n",
            "20/20 [==============================] - 4s 197ms/step - loss: 9.0194e-04 - val_loss: 0.0045\n",
            "Epoch 5/100\n",
            "20/20 [==============================] - 4s 197ms/step - loss: 8.6681e-04 - val_loss: 0.0045\n",
            "Epoch 6/100\n",
            "20/20 [==============================] - 4s 196ms/step - loss: 8.3209e-04 - val_loss: 0.0045\n",
            "Epoch 7/100\n",
            "20/20 [==============================] - 4s 197ms/step - loss: 7.7483e-04 - val_loss: 0.0039\n",
            "Epoch 8/100\n",
            "20/20 [==============================] - 4s 195ms/step - loss: 7.5558e-04 - val_loss: 0.0049\n",
            "Epoch 9/100\n",
            "20/20 [==============================] - 4s 195ms/step - loss: 7.5783e-04 - val_loss: 0.0035\n",
            "Epoch 10/100\n",
            "20/20 [==============================] - 4s 193ms/step - loss: 7.0896e-04 - val_loss: 0.0040\n",
            "Epoch 11/100\n",
            "20/20 [==============================] - 4s 195ms/step - loss: 7.1050e-04 - val_loss: 0.0048\n",
            "Epoch 12/100\n",
            "20/20 [==============================] - 4s 196ms/step - loss: 6.8396e-04 - val_loss: 0.0048\n",
            "Epoch 13/100\n",
            "20/20 [==============================] - 4s 197ms/step - loss: 6.3882e-04 - val_loss: 0.0037\n",
            "Epoch 14/100\n",
            "20/20 [==============================] - 4s 196ms/step - loss: 6.1895e-04 - val_loss: 0.0047\n",
            "Epoch 15/100\n",
            "20/20 [==============================] - 4s 197ms/step - loss: 5.8709e-04 - val_loss: 0.0048\n",
            "Epoch 16/100\n",
            "20/20 [==============================] - 4s 197ms/step - loss: 5.9409e-04 - val_loss: 0.0032\n",
            "Epoch 17/100\n",
            "20/20 [==============================] - 4s 196ms/step - loss: 5.6742e-04 - val_loss: 0.0046\n",
            "Epoch 18/100\n",
            "20/20 [==============================] - 4s 194ms/step - loss: 5.3971e-04 - val_loss: 0.0084\n",
            "Epoch 19/100\n",
            "20/20 [==============================] - 4s 197ms/step - loss: 6.7448e-04 - val_loss: 0.0059\n",
            "Epoch 20/100\n",
            "20/20 [==============================] - 4s 198ms/step - loss: 5.5825e-04 - val_loss: 0.0041\n",
            "Epoch 21/100\n",
            "20/20 [==============================] - 4s 194ms/step - loss: 5.0821e-04 - val_loss: 0.0037\n",
            "Epoch 22/100\n",
            "20/20 [==============================] - 4s 195ms/step - loss: 5.1261e-04 - val_loss: 0.0062\n",
            "Epoch 23/100\n",
            "20/20 [==============================] - 4s 195ms/step - loss: 5.4537e-04 - val_loss: 0.0053\n",
            "Epoch 24/100\n",
            "20/20 [==============================] - 4s 198ms/step - loss: 4.8326e-04 - val_loss: 0.0062\n",
            "Epoch 25/100\n",
            "20/20 [==============================] - 4s 197ms/step - loss: 4.7445e-04 - val_loss: 0.0045\n",
            "Epoch 26/100\n",
            "20/20 [==============================] - 4s 195ms/step - loss: 4.5223e-04 - val_loss: 0.0040\n",
            "Epoch 27/100\n",
            "20/20 [==============================] - 4s 199ms/step - loss: 4.4283e-04 - val_loss: 0.0028\n",
            "Epoch 28/100\n",
            "20/20 [==============================] - 4s 196ms/step - loss: 4.4131e-04 - val_loss: 0.0049\n",
            "Epoch 29/100\n",
            "20/20 [==============================] - 4s 194ms/step - loss: 4.3423e-04 - val_loss: 0.0031\n",
            "Epoch 30/100\n",
            "20/20 [==============================] - 4s 194ms/step - loss: 4.2017e-04 - val_loss: 0.0025\n",
            "Epoch 31/100\n",
            "20/20 [==============================] - 4s 195ms/step - loss: 4.3409e-04 - val_loss: 0.0031\n",
            "Epoch 32/100\n",
            "20/20 [==============================] - 4s 196ms/step - loss: 4.4610e-04 - val_loss: 0.0024\n",
            "Epoch 33/100\n",
            "20/20 [==============================] - 4s 196ms/step - loss: 4.1595e-04 - val_loss: 0.0028\n",
            "Epoch 34/100\n",
            "20/20 [==============================] - 4s 195ms/step - loss: 4.1543e-04 - val_loss: 0.0025\n",
            "Epoch 35/100\n",
            "20/20 [==============================] - 4s 194ms/step - loss: 3.7885e-04 - val_loss: 0.0018\n",
            "Epoch 36/100\n",
            "20/20 [==============================] - 4s 198ms/step - loss: 4.3302e-04 - val_loss: 0.0027\n",
            "Epoch 37/100\n",
            "20/20 [==============================] - 4s 196ms/step - loss: 3.5925e-04 - val_loss: 0.0040\n",
            "Epoch 38/100\n",
            "20/20 [==============================] - 4s 198ms/step - loss: 3.5848e-04 - val_loss: 0.0026\n",
            "Epoch 39/100\n",
            "20/20 [==============================] - 4s 194ms/step - loss: 3.4733e-04 - val_loss: 0.0022\n",
            "Epoch 40/100\n",
            "20/20 [==============================] - 4s 194ms/step - loss: 3.2314e-04 - val_loss: 0.0023\n",
            "Epoch 41/100\n",
            "20/20 [==============================] - 4s 195ms/step - loss: 3.1735e-04 - val_loss: 0.0031\n",
            "Epoch 42/100\n",
            "20/20 [==============================] - 4s 193ms/step - loss: 3.0700e-04 - val_loss: 0.0022\n",
            "Epoch 43/100\n",
            "20/20 [==============================] - 4s 196ms/step - loss: 3.0244e-04 - val_loss: 6.5692e-04\n",
            "Epoch 44/100\n",
            "20/20 [==============================] - 4s 197ms/step - loss: 3.3742e-04 - val_loss: 0.0016\n",
            "Epoch 45/100\n",
            "20/20 [==============================] - 4s 195ms/step - loss: 2.7901e-04 - val_loss: 0.0011\n",
            "Epoch 46/100\n",
            "20/20 [==============================] - 4s 194ms/step - loss: 2.7425e-04 - val_loss: 0.0023\n",
            "Epoch 47/100\n",
            "20/20 [==============================] - 4s 197ms/step - loss: 3.0593e-04 - val_loss: 9.4286e-04\n",
            "Epoch 48/100\n",
            "20/20 [==============================] - 4s 195ms/step - loss: 2.6686e-04 - val_loss: 6.7401e-04\n",
            "Epoch 49/100\n",
            "20/20 [==============================] - 4s 195ms/step - loss: 2.5841e-04 - val_loss: 0.0024\n",
            "Epoch 50/100\n",
            "20/20 [==============================] - 4s 196ms/step - loss: 3.0391e-04 - val_loss: 4.8330e-04\n",
            "Epoch 51/100\n",
            "20/20 [==============================] - 4s 195ms/step - loss: 2.7244e-04 - val_loss: 0.0020\n",
            "Epoch 52/100\n",
            "20/20 [==============================] - 4s 197ms/step - loss: 2.3483e-04 - val_loss: 4.9960e-04\n",
            "Epoch 53/100\n",
            "20/20 [==============================] - 4s 198ms/step - loss: 2.3081e-04 - val_loss: 0.0016\n",
            "Epoch 54/100\n",
            "20/20 [==============================] - 4s 194ms/step - loss: 2.4426e-04 - val_loss: 0.0010\n",
            "Epoch 55/100\n",
            "20/20 [==============================] - 4s 198ms/step - loss: 2.1798e-04 - val_loss: 8.8248e-04\n",
            "Epoch 56/100\n",
            "20/20 [==============================] - 4s 196ms/step - loss: 2.1544e-04 - val_loss: 0.0013\n",
            "Epoch 57/100\n",
            "20/20 [==============================] - 4s 195ms/step - loss: 2.4187e-04 - val_loss: 8.0335e-04\n",
            "Epoch 58/100\n",
            "20/20 [==============================] - 4s 198ms/step - loss: 2.0707e-04 - val_loss: 6.2993e-04\n",
            "Epoch 59/100\n",
            "20/20 [==============================] - 4s 197ms/step - loss: 2.1200e-04 - val_loss: 4.8665e-04\n",
            "Epoch 60/100\n",
            "20/20 [==============================] - 4s 198ms/step - loss: 2.0273e-04 - val_loss: 4.0374e-04\n",
            "Epoch 61/100\n",
            "20/20 [==============================] - 4s 198ms/step - loss: 1.8237e-04 - val_loss: 4.3314e-04\n",
            "Epoch 62/100\n",
            "20/20 [==============================] - 4s 199ms/step - loss: 2.1432e-04 - val_loss: 4.2615e-04\n",
            "Epoch 63/100\n",
            "20/20 [==============================] - 4s 203ms/step - loss: 1.8048e-04 - val_loss: 5.0152e-04\n",
            "Epoch 64/100\n",
            "20/20 [==============================] - 4s 201ms/step - loss: 1.8848e-04 - val_loss: 4.2634e-04\n",
            "Epoch 65/100\n",
            "20/20 [==============================] - 4s 200ms/step - loss: 1.7576e-04 - val_loss: 4.7537e-04\n",
            "Epoch 66/100\n",
            "20/20 [==============================] - 4s 199ms/step - loss: 1.7315e-04 - val_loss: 4.3522e-04\n",
            "Epoch 67/100\n",
            "20/20 [==============================] - 4s 197ms/step - loss: 1.6662e-04 - val_loss: 3.7687e-04\n",
            "Epoch 68/100\n",
            "20/20 [==============================] - 4s 197ms/step - loss: 1.7484e-04 - val_loss: 4.2714e-04\n",
            "Epoch 69/100\n",
            "20/20 [==============================] - 4s 199ms/step - loss: 1.6913e-04 - val_loss: 6.7113e-04\n",
            "Epoch 70/100\n",
            "20/20 [==============================] - 4s 197ms/step - loss: 1.5776e-04 - val_loss: 3.7546e-04\n",
            "Epoch 71/100\n",
            "20/20 [==============================] - 4s 201ms/step - loss: 1.6322e-04 - val_loss: 4.2798e-04\n",
            "Epoch 72/100\n",
            "20/20 [==============================] - 4s 198ms/step - loss: 1.6407e-04 - val_loss: 3.9034e-04\n",
            "Epoch 73/100\n",
            "20/20 [==============================] - 4s 195ms/step - loss: 1.5382e-04 - val_loss: 0.0012\n",
            "Epoch 74/100\n",
            "20/20 [==============================] - 4s 196ms/step - loss: 1.5128e-04 - val_loss: 3.8320e-04\n",
            "Epoch 75/100\n",
            "20/20 [==============================] - 4s 197ms/step - loss: 1.6057e-04 - val_loss: 4.4544e-04\n",
            "Epoch 76/100\n",
            "20/20 [==============================] - 4s 195ms/step - loss: 1.4294e-04 - val_loss: 7.4002e-04\n",
            "Epoch 77/100\n",
            "20/20 [==============================] - 4s 197ms/step - loss: 2.0027e-04 - val_loss: 4.0792e-04\n",
            "Epoch 78/100\n",
            "20/20 [==============================] - 4s 197ms/step - loss: 1.4427e-04 - val_loss: 5.1800e-04\n",
            "Epoch 79/100\n",
            "20/20 [==============================] - 4s 195ms/step - loss: 1.3945e-04 - val_loss: 6.2854e-04\n",
            "Epoch 80/100\n",
            "20/20 [==============================] - 4s 195ms/step - loss: 1.3932e-04 - val_loss: 6.1735e-04\n",
            "Epoch 81/100\n",
            "20/20 [==============================] - 4s 196ms/step - loss: 1.4801e-04 - val_loss: 4.8292e-04\n",
            "Epoch 82/100\n",
            "20/20 [==============================] - 4s 199ms/step - loss: 1.4712e-04 - val_loss: 4.1812e-04\n",
            "Epoch 83/100\n",
            "20/20 [==============================] - 4s 195ms/step - loss: 1.3941e-04 - val_loss: 4.3240e-04\n",
            "Epoch 84/100\n",
            "20/20 [==============================] - 4s 198ms/step - loss: 1.3707e-04 - val_loss: 5.8953e-04\n",
            "Epoch 85/100\n",
            "20/20 [==============================] - 4s 199ms/step - loss: 1.4135e-04 - val_loss: 5.5551e-04\n",
            "Epoch 86/100\n",
            "20/20 [==============================] - 4s 199ms/step - loss: 1.5163e-04 - val_loss: 0.0014\n",
            "Epoch 87/100\n",
            "20/20 [==============================] - 4s 195ms/step - loss: 1.8270e-04 - val_loss: 6.7187e-04\n",
            "Epoch 88/100\n",
            "20/20 [==============================] - 4s 199ms/step - loss: 1.4426e-04 - val_loss: 0.0012\n",
            "Epoch 89/100\n",
            "20/20 [==============================] - 4s 198ms/step - loss: 1.6263e-04 - val_loss: 0.0017\n",
            "Epoch 90/100\n",
            "20/20 [==============================] - 4s 196ms/step - loss: 1.5338e-04 - val_loss: 5.0178e-04\n",
            "Epoch 91/100\n",
            "20/20 [==============================] - 4s 197ms/step - loss: 1.4072e-04 - val_loss: 5.0071e-04\n",
            "Epoch 92/100\n",
            "20/20 [==============================] - 4s 196ms/step - loss: 1.6408e-04 - val_loss: 5.8542e-04\n",
            "Epoch 93/100\n",
            "20/20 [==============================] - 4s 197ms/step - loss: 1.8917e-04 - val_loss: 0.0024\n",
            "Epoch 94/100\n",
            "20/20 [==============================] - 4s 196ms/step - loss: 1.5962e-04 - val_loss: 0.0013\n",
            "Epoch 95/100\n",
            "20/20 [==============================] - 4s 195ms/step - loss: 1.3368e-04 - val_loss: 0.0013\n",
            "Epoch 96/100\n",
            "20/20 [==============================] - 4s 196ms/step - loss: 1.3620e-04 - val_loss: 7.0302e-04\n",
            "Epoch 97/100\n",
            "20/20 [==============================] - 4s 196ms/step - loss: 1.3833e-04 - val_loss: 0.0012\n",
            "Epoch 98/100\n",
            "20/20 [==============================] - 4s 198ms/step - loss: 1.3957e-04 - val_loss: 7.6555e-04\n",
            "Epoch 99/100\n",
            "20/20 [==============================] - 4s 198ms/step - loss: 1.2981e-04 - val_loss: 7.6789e-04\n",
            "Epoch 100/100\n",
            "20/20 [==============================] - 4s 199ms/step - loss: 1.3605e-04 - val_loss: 5.5871e-04\n"
          ]
        },
        {
          "output_type": "execute_result",
          "data": {
            "text/plain": [
              "<keras.callbacks.History at 0x7f158e271a90>"
            ]
          },
          "metadata": {},
          "execution_count": 202
        }
      ]
    },
    {
      "cell_type": "code",
      "metadata": {
        "colab": {
          "base_uri": "https://localhost:8080/",
          "height": 35
        },
        "id": "KpbAYULLOaIP",
        "outputId": "6c03dcdc-8374-405d-c08e-a2baac5845b5"
      },
      "source": [
        "import tensorflow as tf\n",
        "tf.__version__"
      ],
      "execution_count": 203,
      "outputs": [
        {
          "output_type": "execute_result",
          "data": {
            "application/vnd.google.colaboratory.intrinsic+json": {
              "type": "string"
            },
            "text/plain": [
              "'2.6.0'"
            ]
          },
          "metadata": {},
          "execution_count": 203
        }
      ]
    },
    {
      "cell_type": "markdown",
      "metadata": {
        "id": "eGscM99NJpjX"
      },
      "source": [
        "*Lets do the prediction and check performance matrics*"
      ]
    },
    {
      "cell_type": "code",
      "metadata": {
        "id": "sIvLzUEcJGKo"
      },
      "source": [
        "train_predict=model.predict(x_train)\n",
        "test_predict=model.predict(x_test)"
      ],
      "execution_count": 204,
      "outputs": []
    },
    {
      "cell_type": "code",
      "metadata": {
        "id": "jaPQz8GvKZfy"
      },
      "source": [
        "# Transformback to original form\n",
        "train_predict=scaler.inverse_transform(train_predict)\n",
        "test_predict=scaler.inverse_transform(test_predict)"
      ],
      "execution_count": 205,
      "outputs": []
    },
    {
      "cell_type": "markdown",
      "metadata": {
        "id": "JLXlmQj8K5cj"
      },
      "source": [
        "*RMSE performance Matrics*"
      ]
    },
    {
      "cell_type": "code",
      "metadata": {
        "colab": {
          "base_uri": "https://localhost:8080/"
        },
        "id": "IGltdZZUK3in",
        "outputId": "41c5a255-1113-442a-94f2-c23c3a48bc1e"
      },
      "source": [
        "import math\n",
        "from sklearn.metrics import mean_squared_error\n",
        "math.sqrt(mean_squared_error(y_train,train_predict))"
      ],
      "execution_count": 206,
      "outputs": [
        {
          "output_type": "execute_result",
          "data": {
            "text/plain": [
              "135.96250387324352"
            ]
          },
          "metadata": {},
          "execution_count": 206
        }
      ]
    },
    {
      "cell_type": "code",
      "metadata": {
        "colab": {
          "base_uri": "https://localhost:8080/"
        },
        "id": "agczSEDLLVY-",
        "outputId": "41b66348-1894-42a5-9b73-2a146b09170b"
      },
      "source": [
        "#### Test data RMSE\n",
        "math.sqrt(mean_squared_error(y_test,test_predict))"
      ],
      "execution_count": 207,
      "outputs": [
        {
          "output_type": "execute_result",
          "data": {
            "text/plain": [
              "201.7663040681721"
            ]
          },
          "metadata": {},
          "execution_count": 207
        }
      ]
    },
    {
      "cell_type": "markdown",
      "metadata": {
        "id": "IUxB0l7TL9FJ"
      },
      "source": [
        "**Plotting**"
      ]
    },
    {
      "cell_type": "code",
      "metadata": {
        "colab": {
          "base_uri": "https://localhost:8080/",
          "height": 265
        },
        "id": "QPLFyzdULzSm",
        "outputId": "f312d5ea-4437-4ea2-ca76-596bde4738e5"
      },
      "source": [
        "# shift train predictions for plotting\n",
        "look_back=100\n",
        "trainPredictPlot=np.empty_like(df1)\n",
        "trainPredictPlot[:,:]=np.nan\n",
        "trainPredictPlot[look_back:len(train_predict)+look_back,:]=train_predict\n",
        "#shift test predictions for plotting\n",
        "testPredictPlot=np.empty_like(df1)\n",
        "testPredictPlot[:,:]=np.nan\n",
        "testPredictPlot[len(train_predict)+(look_back*2)+1:len(df1)-1,:]=test_predict\n",
        "# plot baseline and prediction\n",
        "plt.plot(scaler.inverse_transform(df1))\n",
        "plt.plot(trainPredictPlot)\n",
        "plt.plot(testPredictPlot)\n",
        "plt.show()"
      ],
      "execution_count": 208,
      "outputs": [
        {
          "output_type": "display_data",
          "data": {
            "image/png": "[encoded data removed]",
            "text/plain": [
              "<Figure size 432x288 with 1 Axes>"
            ]
          },
          "metadata": {
            "needs_background": "light"
          }
        }
      ]
    },
    {
      "cell_type": "markdown",
      "metadata": {
        "id": "0A7vh9fJTrGB"
      },
      "source": [
        "1. Green line show the predicted output of test data.\n",
        "\n",
        "2. Blue line show the complete dataset."
      ]
    },
    {
      "cell_type": "markdown",
      "metadata": {
        "id": "Zd1u2S6FWHJM"
      },
      "source": [
        "**Predict the future 30 days and plot the output**"
      ]
    },
    {
      "cell_type": "code",
      "metadata": {
        "colab": {
          "base_uri": "https://localhost:8080/"
        },
        "id": "qPSO94dONskc",
        "outputId": "9c964196-41c2-47ca-e894-bc8554782568"
      },
      "source": [
        "len(test_data)"
      ],
      "execution_count": 209,
      "outputs": [
        {
          "output_type": "execute_result",
          "data": {
            "text/plain": [
              "713"
            ]
          },
          "metadata": {},
          "execution_count": 209
        }
      ]
    },
    {
      "cell_type": "code",
      "metadata": {
        "colab": {
          "base_uri": "https://localhost:8080/"
        },
        "id": "NgBtNNshPJzV",
        "outputId": "192b54cf-330a-4339-80e0-af1fe60dd5cf"
      },
      "source": [
        "x_input=test_data[613:].reshape(1,-1)\n",
        "x_input.shape"
      ],
      "execution_count": 210,
      "outputs": [
        {
          "output_type": "execute_result",
          "data": {
            "text/plain": [
              "(1, 100)"
            ]
          },
          "metadata": {},
          "execution_count": 210
        }
      ]
    },
    {
      "cell_type": "code",
      "metadata": {
        "id": "DCV-m3DCPaxJ"
      },
      "source": [
        "temp_input=list(x_input)\n",
        "temp_input=temp_input[0].tolist()"
      ],
      "execution_count": 211,
      "outputs": []
    },
    {
      "cell_type": "code",
      "metadata": {
        "colab": {
          "base_uri": "https://localhost:8080/"
        },
        "id": "fCGJth4OfA-1",
        "outputId": "b3507100-0d69-46e7-88e3-3ab7d695aaa7"
      },
      "source": [
        "temp_input"
      ],
      "execution_count": 212,
      "outputs": [
        {
          "output_type": "execute_result",
          "data": {
            "text/plain": [
              "[0.8527369281045751,\n",
              " 0.8621323529411764,\n",
              " 0.8345588235294117,\n",
              " 0.84375,\n",
              " 0.7146650326797386,\n",
              " 0.6605392156862745,\n",
              " 0.6542075163398693,\n",
              " 0.6803513071895424,\n",
              " 0.6689133986928104,\n",
              " 0.6642156862745099,\n",
              " 0.678921568627451,\n",
              " 0.6913807189542482,\n",
              " 0.7089460784313726,\n",
              " 0.7226307189542485,\n",
              " 0.7340686274509802,\n",
              " 0.7212009803921569,\n",
              " 0.749795751633987,\n",
              " 0.7689950980392157,\n",
              " 0.7446895424836601,\n",
              " 0.7120098039215685,\n",
              " 0.7467320261437909,\n",
              " 0.7549019607843137,\n",
              " 0.7604166666666667,\n",
              " 0.7598039215686274,\n",
              " 0.7465277777777777,\n",
              " 0.7624591503267975,\n",
              " 0.7706290849673203,\n",
              " 0.8041258169934642,\n",
              " 0.7810457516339868,\n",
              " 0.7941176470588236,\n",
              " 0.7602124183006536,\n",
              " 0.7348856209150327,\n",
              " 0.7240604575163399,\n",
              " 0.7399918300653596,\n",
              " 0.749795751633987,\n",
              " 0.7614379084967322,\n",
              " 0.7542892156862746,\n",
              " 0.7475490196078431,\n",
              " 0.769607843137255,\n",
              " 0.7495915032679739,\n",
              " 0.8171977124183007,\n",
              " 0.8020833333333335,\n",
              " 0.7773692810457518,\n",
              " 0.7571486928104576,\n",
              " 0.7937091503267975,\n",
              " 0.7916666666666667,\n",
              " 0.7714460784313726,\n",
              " 0.7526552287581698,\n",
              " 0.7269199346405228,\n",
              " 0.6629901960784313,\n",
              " 0.6819852941176472,\n",
              " 0.6441993464052288,\n",
              " 0.6215277777777778,\n",
              " 0.6439950980392156,\n",
              " 0.6631944444444445,\n",
              " 0.6754493464052289,\n",
              " 0.6370506535947713,\n",
              " 0.6460375816993464,\n",
              " 0.6589052287581699,\n",
              " 0.6587009803921569,\n",
              " 0.6779003267973858,\n",
              " 0.6319444444444445,\n",
              " 0.6311274509803921,\n",
              " 0.627859477124183,\n",
              " 0.647671568627451,\n",
              " 0.6399101307189542,\n",
              " 0.6348039215686274,\n",
              " 0.6386846405228759,\n",
              " 0.6233660130718954,\n",
              " 0.627450980392157,\n",
              " 0.6397058823529412,\n",
              " 0.6470588235294118,\n",
              " 0.661968954248366,\n",
              " 0.6707516339869282,\n",
              " 0.6519607843137255,\n",
              " 0.6311274509803921,\n",
              " 0.6129493464052288,\n",
              " 0.6376633986928105,\n",
              " 0.6225490196078431,\n",
              " 0.627450980392157,\n",
              " 0.6333741830065359,\n",
              " 0.6264297385620916,\n",
              " 0.6362336601307189,\n",
              " 0.5831290849673202,\n",
              " 0.5778186274509804,\n",
              " 0.5723039215686275,\n",
              " 0.5800653594771241,\n",
              " 0.5761846405228758,\n",
              " 0.5516748366013072,\n",
              " 0.5788398692810458,\n",
              " 0.625,\n",
              " 0.6358251633986928,\n",
              " 0.6294934640522877,\n",
              " 0.6288807189542484,\n",
              " 0.6276552287581699,\n",
              " 0.6223447712418301,\n",
              " 0.6337826797385621,\n",
              " 0.6262254901960784,\n",
              " 0.622140522875817,\n",
              " 0.6241830065359477]"
            ]
          },
          "metadata": {},
          "execution_count": 212
        }
      ]
    },
    {
      "cell_type": "markdown",
      "metadata": {
        "id": "6eaNON2JaX5q"
      },
      "source": [
        "Demonstrate prediction for next 30 days"
      ]
    },
    {
      "cell_type": "code",
      "metadata": {
        "id": "IIdf1IbjpBA-"
      },
      "source": [
        "from numpy import array"
      ],
      "execution_count": 213,
      "outputs": []
    },
    {
      "cell_type": "code",
      "metadata": {
        "colab": {
          "base_uri": "https://localhost:8080/"
        },
        "id": "4F9WXVHXZ-yo",
        "outputId": "2a510dd2-307c-4376-f20d-946de0c02153"
      },
      "source": [
        "lst_output=[]\n",
        "n_steps=100\n",
        "i=0\n",
        "while(i<30):\n",
        "  if (len(temp_input)>100):\n",
        "    #print (temp_input)\n",
        "    x_input=np.array(temp_input[1:])\n",
        "    print('{} day input {}'.format(i,x_input))\n",
        "    x_input=x_input.reshape(1,-1)\n",
        "    x_input=x_input.reshape((1,n_steps,1))\n",
        "    #print(x_input)\n",
        "    yhat=model.predict(x_input, verbose=0)\n",
        "    print('{} day output {}'.format(i,yhat))\n",
        "    temp_input.extend(yhat[0].tolist())\n",
        "    temp_input=temp_input[1:]\n",
        "    # print(temp_input)\n",
        "    lst_output.extend(yhat.tolist())\n",
        "    i=i+1\n",
        "  else:\n",
        "    x_input=x_input.reshape((1,n_steps,1))\n",
        "    yhat=model.predict(x_input,verbose=0)\n",
        "    print(yhat[0])\n",
        "    temp_input.extend(yhat[0].tolist())\n",
        "    print(len(temp_input))\n",
        "    lst_output.extend(yhat.tolist())\n",
        "    i=i+1\n",
        "print(lst_output)"
      ],
      "execution_count": 214,
      "outputs": [
        {
          "output_type": "stream",
          "name": "stdout",
          "text": [
            "[0.62874424]\n",
            "101\n",
            "1 day input [0.86213235 0.83455882 0.84375    0.71466503 0.66053922 0.65420752\n",
            " 0.68035131 0.6689134  0.66421569 0.67892157 0.69138072 0.70894608\n",
            " 0.72263072 0.73406863 0.72120098 0.74979575 0.7689951  0.74468954\n",
            " 0.7120098  0.74673203 0.75490196 0.76041667 0.75980392 0.74652778\n",
            " 0.76245915 0.77062908 0.80412582 0.78104575 0.79411765 0.76021242\n",
            " 0.73488562 0.72406046 0.73999183 0.74979575 0.76143791 0.75428922\n",
            " 0.74754902 0.76960784 0.7495915  0.81719771 0.80208333 0.77736928\n",
            " 0.75714869 0.79370915 0.79166667 0.77144608 0.75265523 0.72691993\n",
            " 0.6629902  0.68198529 0.64419935 0.62152778 0.6439951  0.66319444\n",
            " 0.67544935 0.63705065 0.64603758 0.65890523 0.65870098 0.67790033\n",
            " 0.63194444 0.63112745 0.62785948 0.64767157 0.63991013 0.63480392\n",
            " 0.63868464 0.62336601 0.62745098 0.63970588 0.64705882 0.66196895\n",
            " 0.67075163 0.65196078 0.63112745 0.61294935 0.6376634  0.62254902\n",
            " 0.62745098 0.63337418 0.62642974 0.63623366 0.58312908 0.57781863\n",
            " 0.57230392 0.58006536 0.57618464 0.55167484 0.57883987 0.625\n",
            " 0.63582516 0.62949346 0.62888072 0.62765523 0.62234477 0.63378268\n",
            " 0.62622549 0.62214052 0.62418301 0.62874424]\n",
            "1 day output [[0.6332505]]\n",
            "2 day input [0.83455882 0.84375    0.71466503 0.66053922 0.65420752 0.68035131\n",
            " 0.6689134  0.66421569 0.67892157 0.69138072 0.70894608 0.72263072\n",
            " 0.73406863 0.72120098 0.74979575 0.7689951  0.74468954 0.7120098\n",
            " 0.74673203 0.75490196 0.76041667 0.75980392 0.74652778 0.76245915\n",
            " 0.77062908 0.80412582 0.78104575 0.79411765 0.76021242 0.73488562\n",
            " 0.72406046 0.73999183 0.74979575 0.76143791 0.75428922 0.74754902\n",
            " 0.76960784 0.7495915  0.81719771 0.80208333 0.77736928 0.75714869\n",
            " 0.79370915 0.79166667 0.77144608 0.75265523 0.72691993 0.6629902\n",
            " 0.68198529 0.64419935 0.62152778 0.6439951  0.66319444 0.67544935\n",
            " 0.63705065 0.64603758 0.65890523 0.65870098 0.67790033 0.63194444\n",
            " 0.63112745 0.62785948 0.64767157 0.63991013 0.63480392 0.63868464\n",
            " 0.62336601 0.62745098 0.63970588 0.64705882 0.66196895 0.67075163\n",
            " 0.65196078 0.63112745 0.61294935 0.6376634  0.62254902 0.62745098\n",
            " 0.63337418 0.62642974 0.63623366 0.58312908 0.57781863 0.57230392\n",
            " 0.58006536 0.57618464 0.55167484 0.57883987 0.625      0.63582516\n",
            " 0.62949346 0.62888072 0.62765523 0.62234477 0.63378268 0.62622549\n",
            " 0.62214052 0.62418301 0.62874424 0.63325047]\n",
            "2 day output [[0.6362018]]\n",
            "3 day input [0.84375    0.71466503 0.66053922 0.65420752 0.68035131 0.6689134\n",
            " 0.66421569 0.67892157 0.69138072 0.70894608 0.72263072 0.73406863\n",
            " 0.72120098 0.74979575 0.7689951  0.74468954 0.7120098  0.74673203\n",
            " 0.75490196 0.76041667 0.75980392 0.74652778 0.76245915 0.77062908\n",
            " 0.80412582 0.78104575 0.79411765 0.76021242 0.73488562 0.72406046\n",
            " 0.73999183 0.74979575 0.76143791 0.75428922 0.74754902 0.76960784\n",
            " 0.7495915  0.81719771 0.80208333 0.77736928 0.75714869 0.79370915\n",
            " 0.79166667 0.77144608 0.75265523 0.72691993 0.6629902  0.68198529\n",
            " 0.64419935 0.62152778 0.6439951  0.66319444 0.67544935 0.63705065\n",
            " 0.64603758 0.65890523 0.65870098 0.67790033 0.63194444 0.63112745\n",
            " 0.62785948 0.64767157 0.63991013 0.63480392 0.63868464 0.62336601\n",
            " 0.62745098 0.63970588 0.64705882 0.66196895 0.67075163 0.65196078\n",
            " 0.63112745 0.61294935 0.6376634  0.62254902 0.62745098 0.63337418\n",
            " 0.62642974 0.63623366 0.58312908 0.57781863 0.57230392 0.58006536\n",
            " 0.57618464 0.55167484 0.57883987 0.625      0.63582516 0.62949346\n",
            " 0.62888072 0.62765523 0.62234477 0.63378268 0.62622549 0.62214052\n",
            " 0.62418301 0.62874424 0.63325047 0.6362018 ]\n",
            "3 day output [[0.6378804]]\n",
            "4 day input [0.71466503 0.66053922 0.65420752 0.68035131 0.6689134  0.66421569\n",
            " 0.67892157 0.69138072 0.70894608 0.72263072 0.73406863 0.72120098\n",
            " 0.74979575 0.7689951  0.74468954 0.7120098  0.74673203 0.75490196\n",
            " 0.76041667 0.75980392 0.74652778 0.76245915 0.77062908 0.80412582\n",
            " 0.78104575 0.79411765 0.76021242 0.73488562 0.72406046 0.73999183\n",
            " 0.74979575 0.76143791 0.75428922 0.74754902 0.76960784 0.7495915\n",
            " 0.81719771 0.80208333 0.77736928 0.75714869 0.79370915 0.79166667\n",
            " 0.77144608 0.75265523 0.72691993 0.6629902  0.68198529 0.64419935\n",
            " 0.62152778 0.6439951  0.66319444 0.67544935 0.63705065 0.64603758\n",
            " 0.65890523 0.65870098 0.67790033 0.63194444 0.63112745 0.62785948\n",
            " 0.64767157 0.63991013 0.63480392 0.63868464 0.62336601 0.62745098\n",
            " 0.63970588 0.64705882 0.66196895 0.67075163 0.65196078 0.63112745\n",
            " 0.61294935 0.6376634  0.62254902 0.62745098 0.63337418 0.62642974\n",
            " 0.63623366 0.58312908 0.57781863 0.57230392 0.58006536 0.57618464\n",
            " 0.55167484 0.57883987 0.625      0.63582516 0.62949346 0.62888072\n",
            " 0.62765523 0.62234477 0.63378268 0.62622549 0.62214052 0.62418301\n",
            " 0.62874424 0.63325047 0.6362018  0.63788038]\n",
            "4 day output [[0.63893336]]\n",
            "5 day input [0.66053922 0.65420752 0.68035131 0.6689134  0.66421569 0.67892157\n",
            " 0.69138072 0.70894608 0.72263072 0.73406863 0.72120098 0.74979575\n",
            " 0.7689951  0.74468954 0.7120098  0.74673203 0.75490196 0.76041667\n",
            " 0.75980392 0.74652778 0.76245915 0.77062908 0.80412582 0.78104575\n",
            " 0.79411765 0.76021242 0.73488562 0.72406046 0.73999183 0.74979575\n",
            " 0.76143791 0.75428922 0.74754902 0.76960784 0.7495915  0.81719771\n",
            " 0.80208333 0.77736928 0.75714869 0.79370915 0.79166667 0.77144608\n",
            " 0.75265523 0.72691993 0.6629902  0.68198529 0.64419935 0.62152778\n",
            " 0.6439951  0.66319444 0.67544935 0.63705065 0.64603758 0.65890523\n",
            " 0.65870098 0.67790033 0.63194444 0.63112745 0.62785948 0.64767157\n",
            " 0.63991013 0.63480392 0.63868464 0.62336601 0.62745098 0.63970588\n",
            " 0.64705882 0.66196895 0.67075163 0.65196078 0.63112745 0.61294935\n",
            " 0.6376634  0.62254902 0.62745098 0.63337418 0.62642974 0.63623366\n",
            " 0.58312908 0.57781863 0.57230392 0.58006536 0.57618464 0.55167484\n",
            " 0.57883987 0.625      0.63582516 0.62949346 0.62888072 0.62765523\n",
            " 0.62234477 0.63378268 0.62622549 0.62214052 0.62418301 0.62874424\n",
            " 0.63325047 0.6362018  0.63788038 0.63893336]\n",
            "5 day output [[0.6398994]]\n",
            "6 day input [0.65420752 0.68035131 0.6689134  0.66421569 0.67892157 0.69138072\n",
            " 0.70894608 0.72263072 0.73406863 0.72120098 0.74979575 0.7689951\n",
            " 0.74468954 0.7120098  0.74673203 0.75490196 0.76041667 0.75980392\n",
            " 0.74652778 0.76245915 0.77062908 0.80412582 0.78104575 0.79411765\n",
            " 0.76021242 0.73488562 0.72406046 0.73999183 0.74979575 0.76143791\n",
            " 0.75428922 0.74754902 0.76960784 0.7495915  0.81719771 0.80208333\n",
            " 0.77736928 0.75714869 0.79370915 0.79166667 0.77144608 0.75265523\n",
            " 0.72691993 0.6629902  0.68198529 0.64419935 0.62152778 0.6439951\n",
            " 0.66319444 0.67544935 0.63705065 0.64603758 0.65890523 0.65870098\n",
            " 0.67790033 0.63194444 0.63112745 0.62785948 0.64767157 0.63991013\n",
            " 0.63480392 0.63868464 0.62336601 0.62745098 0.63970588 0.64705882\n",
            " 0.66196895 0.67075163 0.65196078 0.63112745 0.61294935 0.6376634\n",
            " 0.62254902 0.62745098 0.63337418 0.62642974 0.63623366 0.58312908\n",
            " 0.57781863 0.57230392 0.58006536 0.57618464 0.55167484 0.57883987\n",
            " 0.625      0.63582516 0.62949346 0.62888072 0.62765523 0.62234477\n",
            " 0.63378268 0.62622549 0.62214052 0.62418301 0.62874424 0.63325047\n",
            " 0.6362018  0.63788038 0.63893336 0.63989937]\n",
            "6 day output [[0.6410046]]\n",
            "7 day input [0.68035131 0.6689134  0.66421569 0.67892157 0.69138072 0.70894608\n",
            " 0.72263072 0.73406863 0.72120098 0.74979575 0.7689951  0.74468954\n",
            " 0.7120098  0.74673203 0.75490196 0.76041667 0.75980392 0.74652778\n",
            " 0.76245915 0.77062908 0.80412582 0.78104575 0.79411765 0.76021242\n",
            " 0.73488562 0.72406046 0.73999183 0.74979575 0.76143791 0.75428922\n",
            " 0.74754902 0.76960784 0.7495915  0.81719771 0.80208333 0.77736928\n",
            " 0.75714869 0.79370915 0.79166667 0.77144608 0.75265523 0.72691993\n",
            " 0.6629902  0.68198529 0.64419935 0.62152778 0.6439951  0.66319444\n",
            " 0.67544935 0.63705065 0.64603758 0.65890523 0.65870098 0.67790033\n",
            " 0.63194444 0.63112745 0.62785948 0.64767157 0.63991013 0.63480392\n",
            " 0.63868464 0.62336601 0.62745098 0.63970588 0.64705882 0.66196895\n",
            " 0.67075163 0.65196078 0.63112745 0.61294935 0.6376634  0.62254902\n",
            " 0.62745098 0.63337418 0.62642974 0.63623366 0.58312908 0.57781863\n",
            " 0.57230392 0.58006536 0.57618464 0.55167484 0.57883987 0.625\n",
            " 0.63582516 0.62949346 0.62888072 0.62765523 0.62234477 0.63378268\n",
            " 0.62622549 0.62214052 0.62418301 0.62874424 0.63325047 0.6362018\n",
            " 0.63788038 0.63893336 0.63989937 0.64100462]\n",
            "7 day output [[0.6422479]]\n",
            "8 day input [0.6689134  0.66421569 0.67892157 0.69138072 0.70894608 0.72263072\n",
            " 0.73406863 0.72120098 0.74979575 0.7689951  0.74468954 0.7120098\n",
            " 0.74673203 0.75490196 0.76041667 0.75980392 0.74652778 0.76245915\n",
            " 0.77062908 0.80412582 0.78104575 0.79411765 0.76021242 0.73488562\n",
            " 0.72406046 0.73999183 0.74979575 0.76143791 0.75428922 0.74754902\n",
            " 0.76960784 0.7495915  0.81719771 0.80208333 0.77736928 0.75714869\n",
            " 0.79370915 0.79166667 0.77144608 0.75265523 0.72691993 0.6629902\n",
            " 0.68198529 0.64419935 0.62152778 0.6439951  0.66319444 0.67544935\n",
            " 0.63705065 0.64603758 0.65890523 0.65870098 0.67790033 0.63194444\n",
            " 0.63112745 0.62785948 0.64767157 0.63991013 0.63480392 0.63868464\n",
            " 0.62336601 0.62745098 0.63970588 0.64705882 0.66196895 0.67075163\n",
            " 0.65196078 0.63112745 0.61294935 0.6376634  0.62254902 0.62745098\n",
            " 0.63337418 0.62642974 0.63623366 0.58312908 0.57781863 0.57230392\n",
            " 0.58006536 0.57618464 0.55167484 0.57883987 0.625      0.63582516\n",
            " 0.62949346 0.62888072 0.62765523 0.62234477 0.63378268 0.62622549\n",
            " 0.62214052 0.62418301 0.62874424 0.63325047 0.6362018  0.63788038\n",
            " 0.63893336 0.63989937 0.64100462 0.64224792]\n",
            "8 day output [[0.64354336]]\n",
            "9 day input [0.66421569 0.67892157 0.69138072 0.70894608 0.72263072 0.73406863\n",
            " 0.72120098 0.74979575 0.7689951  0.74468954 0.7120098  0.74673203\n",
            " 0.75490196 0.76041667 0.75980392 0.74652778 0.76245915 0.77062908\n",
            " 0.80412582 0.78104575 0.79411765 0.76021242 0.73488562 0.72406046\n",
            " 0.73999183 0.74979575 0.76143791 0.75428922 0.74754902 0.76960784\n",
            " 0.7495915  0.81719771 0.80208333 0.77736928 0.75714869 0.79370915\n",
            " 0.79166667 0.77144608 0.75265523 0.72691993 0.6629902  0.68198529\n",
            " 0.64419935 0.62152778 0.6439951  0.66319444 0.67544935 0.63705065\n",
            " 0.64603758 0.65890523 0.65870098 0.67790033 0.63194444 0.63112745\n",
            " 0.62785948 0.64767157 0.63991013 0.63480392 0.63868464 0.62336601\n",
            " 0.62745098 0.63970588 0.64705882 0.66196895 0.67075163 0.65196078\n",
            " 0.63112745 0.61294935 0.6376634  0.62254902 0.62745098 0.63337418\n",
            " 0.62642974 0.63623366 0.58312908 0.57781863 0.57230392 0.58006536\n",
            " 0.57618464 0.55167484 0.57883987 0.625      0.63582516 0.62949346\n",
            " 0.62888072 0.62765523 0.62234477 0.63378268 0.62622549 0.62214052\n",
            " 0.62418301 0.62874424 0.63325047 0.6362018  0.63788038 0.63893336\n",
            " 0.63989937 0.64100462 0.64224792 0.64354336]\n",
            "9 day output [[0.6448141]]\n",
            "10 day input [0.67892157 0.69138072 0.70894608 0.72263072 0.73406863 0.72120098\n",
            " 0.74979575 0.7689951  0.74468954 0.7120098  0.74673203 0.75490196\n",
            " 0.76041667 0.75980392 0.74652778 0.76245915 0.77062908 0.80412582\n",
            " 0.78104575 0.79411765 0.76021242 0.73488562 0.72406046 0.73999183\n",
            " 0.74979575 0.76143791 0.75428922 0.74754902 0.76960784 0.7495915\n",
            " 0.81719771 0.80208333 0.77736928 0.75714869 0.79370915 0.79166667\n",
            " 0.77144608 0.75265523 0.72691993 0.6629902  0.68198529 0.64419935\n",
            " 0.62152778 0.6439951  0.66319444 0.67544935 0.63705065 0.64603758\n",
            " 0.65890523 0.65870098 0.67790033 0.63194444 0.63112745 0.62785948\n",
            " 0.64767157 0.63991013 0.63480392 0.63868464 0.62336601 0.62745098\n",
            " 0.63970588 0.64705882 0.66196895 0.67075163 0.65196078 0.63112745\n",
            " 0.61294935 0.6376634  0.62254902 0.62745098 0.63337418 0.62642974\n",
            " 0.63623366 0.58312908 0.57781863 0.57230392 0.58006536 0.57618464\n",
            " 0.55167484 0.57883987 0.625      0.63582516 0.62949346 0.62888072\n",
            " 0.62765523 0.62234477 0.63378268 0.62622549 0.62214052 0.62418301\n",
            " 0.62874424 0.63325047 0.6362018  0.63788038 0.63893336 0.63989937\n",
            " 0.64100462 0.64224792 0.64354336 0.64481407]\n",
            "10 day output [[0.64602566]]\n",
            "11 day input [0.69138072 0.70894608 0.72263072 0.73406863 0.72120098 0.74979575\n",
            " 0.7689951  0.74468954 0.7120098  0.74673203 0.75490196 0.76041667\n",
            " 0.75980392 0.74652778 0.76245915 0.77062908 0.80412582 0.78104575\n",
            " 0.79411765 0.76021242 0.73488562 0.72406046 0.73999183 0.74979575\n",
            " 0.76143791 0.75428922 0.74754902 0.76960784 0.7495915  0.81719771\n",
            " 0.80208333 0.77736928 0.75714869 0.79370915 0.79166667 0.77144608\n",
            " 0.75265523 0.72691993 0.6629902  0.68198529 0.64419935 0.62152778\n",
            " 0.6439951  0.66319444 0.67544935 0.63705065 0.64603758 0.65890523\n",
            " 0.65870098 0.67790033 0.63194444 0.63112745 0.62785948 0.64767157\n",
            " 0.63991013 0.63480392 0.63868464 0.62336601 0.62745098 0.63970588\n",
            " 0.64705882 0.66196895 0.67075163 0.65196078 0.63112745 0.61294935\n",
            " 0.6376634  0.62254902 0.62745098 0.63337418 0.62642974 0.63623366\n",
            " 0.58312908 0.57781863 0.57230392 0.58006536 0.57618464 0.55167484\n",
            " 0.57883987 0.625      0.63582516 0.62949346 0.62888072 0.62765523\n",
            " 0.62234477 0.63378268 0.62622549 0.62214052 0.62418301 0.62874424\n",
            " 0.63325047 0.6362018  0.63788038 0.63893336 0.63989937 0.64100462\n",
            " 0.64224792 0.64354336 0.64481407 0.64602566]\n",
            "11 day output [[0.6471766]]\n",
            "12 day input [0.70894608 0.72263072 0.73406863 0.72120098 0.74979575 0.7689951\n",
            " 0.74468954 0.7120098  0.74673203 0.75490196 0.76041667 0.75980392\n",
            " 0.74652778 0.76245915 0.77062908 0.80412582 0.78104575 0.79411765\n",
            " 0.76021242 0.73488562 0.72406046 0.73999183 0.74979575 0.76143791\n",
            " 0.75428922 0.74754902 0.76960784 0.7495915  0.81719771 0.80208333\n",
            " 0.77736928 0.75714869 0.79370915 0.79166667 0.77144608 0.75265523\n",
            " 0.72691993 0.6629902  0.68198529 0.64419935 0.62152778 0.6439951\n",
            " 0.66319444 0.67544935 0.63705065 0.64603758 0.65890523 0.65870098\n",
            " 0.67790033 0.63194444 0.63112745 0.62785948 0.64767157 0.63991013\n",
            " 0.63480392 0.63868464 0.62336601 0.62745098 0.63970588 0.64705882\n",
            " 0.66196895 0.67075163 0.65196078 0.63112745 0.61294935 0.6376634\n",
            " 0.62254902 0.62745098 0.63337418 0.62642974 0.63623366 0.58312908\n",
            " 0.57781863 0.57230392 0.58006536 0.57618464 0.55167484 0.57883987\n",
            " 0.625      0.63582516 0.62949346 0.62888072 0.62765523 0.62234477\n",
            " 0.63378268 0.62622549 0.62214052 0.62418301 0.62874424 0.63325047\n",
            " 0.6362018  0.63788038 0.63893336 0.63989937 0.64100462 0.64224792\n",
            " 0.64354336 0.64481407 0.64602566 0.64717662]\n",
            "12 day output [[0.6482793]]\n",
            "13 day input [0.72263072 0.73406863 0.72120098 0.74979575 0.7689951  0.74468954\n",
            " 0.7120098  0.74673203 0.75490196 0.76041667 0.75980392 0.74652778\n",
            " 0.76245915 0.77062908 0.80412582 0.78104575 0.79411765 0.76021242\n",
            " 0.73488562 0.72406046 0.73999183 0.74979575 0.76143791 0.75428922\n",
            " 0.74754902 0.76960784 0.7495915  0.81719771 0.80208333 0.77736928\n",
            " 0.75714869 0.79370915 0.79166667 0.77144608 0.75265523 0.72691993\n",
            " 0.6629902  0.68198529 0.64419935 0.62152778 0.6439951  0.66319444\n",
            " 0.67544935 0.63705065 0.64603758 0.65890523 0.65870098 0.67790033\n",
            " 0.63194444 0.63112745 0.62785948 0.64767157 0.63991013 0.63480392\n",
            " 0.63868464 0.62336601 0.62745098 0.63970588 0.64705882 0.66196895\n",
            " 0.67075163 0.65196078 0.63112745 0.61294935 0.6376634  0.62254902\n",
            " 0.62745098 0.63337418 0.62642974 0.63623366 0.58312908 0.57781863\n",
            " 0.57230392 0.58006536 0.57618464 0.55167484 0.57883987 0.625\n",
            " 0.63582516 0.62949346 0.62888072 0.62765523 0.62234477 0.63378268\n",
            " 0.62622549 0.62214052 0.62418301 0.62874424 0.63325047 0.6362018\n",
            " 0.63788038 0.63893336 0.63989937 0.64100462 0.64224792 0.64354336\n",
            " 0.64481407 0.64602566 0.64717662 0.64827931]\n",
            "13 day output [[0.6493462]]\n",
            "14 day input [0.73406863 0.72120098 0.74979575 0.7689951  0.74468954 0.7120098\n",
            " 0.74673203 0.75490196 0.76041667 0.75980392 0.74652778 0.76245915\n",
            " 0.77062908 0.80412582 0.78104575 0.79411765 0.76021242 0.73488562\n",
            " 0.72406046 0.73999183 0.74979575 0.76143791 0.75428922 0.74754902\n",
            " 0.76960784 0.7495915  0.81719771 0.80208333 0.77736928 0.75714869\n",
            " 0.79370915 0.79166667 0.77144608 0.75265523 0.72691993 0.6629902\n",
            " 0.68198529 0.64419935 0.62152778 0.6439951  0.66319444 0.67544935\n",
            " 0.63705065 0.64603758 0.65890523 0.65870098 0.67790033 0.63194444\n",
            " 0.63112745 0.62785948 0.64767157 0.63991013 0.63480392 0.63868464\n",
            " 0.62336601 0.62745098 0.63970588 0.64705882 0.66196895 0.67075163\n",
            " 0.65196078 0.63112745 0.61294935 0.6376634  0.62254902 0.62745098\n",
            " 0.63337418 0.62642974 0.63623366 0.58312908 0.57781863 0.57230392\n",
            " 0.58006536 0.57618464 0.55167484 0.57883987 0.625      0.63582516\n",
            " 0.62949346 0.62888072 0.62765523 0.62234477 0.63378268 0.62622549\n",
            " 0.62214052 0.62418301 0.62874424 0.63325047 0.6362018  0.63788038\n",
            " 0.63893336 0.63989937 0.64100462 0.64224792 0.64354336 0.64481407\n",
            " 0.64602566 0.64717662 0.64827931 0.64934617]\n",
            "14 day output [[0.650385]]\n",
            "15 day input [0.72120098 0.74979575 0.7689951  0.74468954 0.7120098  0.74673203\n",
            " 0.75490196 0.76041667 0.75980392 0.74652778 0.76245915 0.77062908\n",
            " 0.80412582 0.78104575 0.79411765 0.76021242 0.73488562 0.72406046\n",
            " 0.73999183 0.74979575 0.76143791 0.75428922 0.74754902 0.76960784\n",
            " 0.7495915  0.81719771 0.80208333 0.77736928 0.75714869 0.79370915\n",
            " 0.79166667 0.77144608 0.75265523 0.72691993 0.6629902  0.68198529\n",
            " 0.64419935 0.62152778 0.6439951  0.66319444 0.67544935 0.63705065\n",
            " 0.64603758 0.65890523 0.65870098 0.67790033 0.63194444 0.63112745\n",
            " 0.62785948 0.64767157 0.63991013 0.63480392 0.63868464 0.62336601\n",
            " 0.62745098 0.63970588 0.64705882 0.66196895 0.67075163 0.65196078\n",
            " 0.63112745 0.61294935 0.6376634  0.62254902 0.62745098 0.63337418\n",
            " 0.62642974 0.63623366 0.58312908 0.57781863 0.57230392 0.58006536\n",
            " 0.57618464 0.55167484 0.57883987 0.625      0.63582516 0.62949346\n",
            " 0.62888072 0.62765523 0.62234477 0.63378268 0.62622549 0.62214052\n",
            " 0.62418301 0.62874424 0.63325047 0.6362018  0.63788038 0.63893336\n",
            " 0.63989937 0.64100462 0.64224792 0.64354336 0.64481407 0.64602566\n",
            " 0.64717662 0.64827931 0.64934617 0.65038502]\n",
            "15 day output [[0.65139836]]\n",
            "16 day input [0.74979575 0.7689951  0.74468954 0.7120098  0.74673203 0.75490196\n",
            " 0.76041667 0.75980392 0.74652778 0.76245915 0.77062908 0.80412582\n",
            " 0.78104575 0.79411765 0.76021242 0.73488562 0.72406046 0.73999183\n",
            " 0.74979575 0.76143791 0.75428922 0.74754902 0.76960784 0.7495915\n",
            " 0.81719771 0.80208333 0.77736928 0.75714869 0.79370915 0.79166667\n",
            " 0.77144608 0.75265523 0.72691993 0.6629902  0.68198529 0.64419935\n",
            " 0.62152778 0.6439951  0.66319444 0.67544935 0.63705065 0.64603758\n",
            " 0.65890523 0.65870098 0.67790033 0.63194444 0.63112745 0.62785948\n",
            " 0.64767157 0.63991013 0.63480392 0.63868464 0.62336601 0.62745098\n",
            " 0.63970588 0.64705882 0.66196895 0.67075163 0.65196078 0.63112745\n",
            " 0.61294935 0.6376634  0.62254902 0.62745098 0.63337418 0.62642974\n",
            " 0.63623366 0.58312908 0.57781863 0.57230392 0.58006536 0.57618464\n",
            " 0.55167484 0.57883987 0.625      0.63582516 0.62949346 0.62888072\n",
            " 0.62765523 0.62234477 0.63378268 0.62622549 0.62214052 0.62418301\n",
            " 0.62874424 0.63325047 0.6362018  0.63788038 0.63893336 0.63989937\n",
            " 0.64100462 0.64224792 0.64354336 0.64481407 0.64602566 0.64717662\n",
            " 0.64827931 0.64934617 0.65038502 0.65139836]\n",
            "16 day output [[0.6523872]]\n",
            "17 day input [0.7689951  0.74468954 0.7120098  0.74673203 0.75490196 0.76041667\n",
            " 0.75980392 0.74652778 0.76245915 0.77062908 0.80412582 0.78104575\n",
            " 0.79411765 0.76021242 0.73488562 0.72406046 0.73999183 0.74979575\n",
            " 0.76143791 0.75428922 0.74754902 0.76960784 0.7495915  0.81719771\n",
            " 0.80208333 0.77736928 0.75714869 0.79370915 0.79166667 0.77144608\n",
            " 0.75265523 0.72691993 0.6629902  0.68198529 0.64419935 0.62152778\n",
            " 0.6439951  0.66319444 0.67544935 0.63705065 0.64603758 0.65890523\n",
            " 0.65870098 0.67790033 0.63194444 0.63112745 0.62785948 0.64767157\n",
            " 0.63991013 0.63480392 0.63868464 0.62336601 0.62745098 0.63970588\n",
            " 0.64705882 0.66196895 0.67075163 0.65196078 0.63112745 0.61294935\n",
            " 0.6376634  0.62254902 0.62745098 0.63337418 0.62642974 0.63623366\n",
            " 0.58312908 0.57781863 0.57230392 0.58006536 0.57618464 0.55167484\n",
            " 0.57883987 0.625      0.63582516 0.62949346 0.62888072 0.62765523\n",
            " 0.62234477 0.63378268 0.62622549 0.62214052 0.62418301 0.62874424\n",
            " 0.63325047 0.6362018  0.63788038 0.63893336 0.63989937 0.64100462\n",
            " 0.64224792 0.64354336 0.64481407 0.64602566 0.64717662 0.64827931\n",
            " 0.64934617 0.65038502 0.65139836 0.6523872 ]\n",
            "17 day output [[0.6533518]]\n",
            "18 day input [0.74468954 0.7120098  0.74673203 0.75490196 0.76041667 0.75980392\n",
            " 0.74652778 0.76245915 0.77062908 0.80412582 0.78104575 0.79411765\n",
            " 0.76021242 0.73488562 0.72406046 0.73999183 0.74979575 0.76143791\n",
            " 0.75428922 0.74754902 0.76960784 0.7495915  0.81719771 0.80208333\n",
            " 0.77736928 0.75714869 0.79370915 0.79166667 0.77144608 0.75265523\n",
            " 0.72691993 0.6629902  0.68198529 0.64419935 0.62152778 0.6439951\n",
            " 0.66319444 0.67544935 0.63705065 0.64603758 0.65890523 0.65870098\n",
            " 0.67790033 0.63194444 0.63112745 0.62785948 0.64767157 0.63991013\n",
            " 0.63480392 0.63868464 0.62336601 0.62745098 0.63970588 0.64705882\n",
            " 0.66196895 0.67075163 0.65196078 0.63112745 0.61294935 0.6376634\n",
            " 0.62254902 0.62745098 0.63337418 0.62642974 0.63623366 0.58312908\n",
            " 0.57781863 0.57230392 0.58006536 0.57618464 0.55167484 0.57883987\n",
            " 0.625      0.63582516 0.62949346 0.62888072 0.62765523 0.62234477\n",
            " 0.63378268 0.62622549 0.62214052 0.62418301 0.62874424 0.63325047\n",
            " 0.6362018  0.63788038 0.63893336 0.63989937 0.64100462 0.64224792\n",
            " 0.64354336 0.64481407 0.64602566 0.64717662 0.64827931 0.64934617\n",
            " 0.65038502 0.65139836 0.6523872  0.65335178]\n",
            "18 day output [[0.65429235]]\n",
            "19 day input [0.7120098  0.74673203 0.75490196 0.76041667 0.75980392 0.74652778\n",
            " 0.76245915 0.77062908 0.80412582 0.78104575 0.79411765 0.76021242\n",
            " 0.73488562 0.72406046 0.73999183 0.74979575 0.76143791 0.75428922\n",
            " 0.74754902 0.76960784 0.7495915  0.81719771 0.80208333 0.77736928\n",
            " 0.75714869 0.79370915 0.79166667 0.77144608 0.75265523 0.72691993\n",
            " 0.6629902  0.68198529 0.64419935 0.62152778 0.6439951  0.66319444\n",
            " 0.67544935 0.63705065 0.64603758 0.65890523 0.65870098 0.67790033\n",
            " 0.63194444 0.63112745 0.62785948 0.64767157 0.63991013 0.63480392\n",
            " 0.63868464 0.62336601 0.62745098 0.63970588 0.64705882 0.66196895\n",
            " 0.67075163 0.65196078 0.63112745 0.61294935 0.6376634  0.62254902\n",
            " 0.62745098 0.63337418 0.62642974 0.63623366 0.58312908 0.57781863\n",
            " 0.57230392 0.58006536 0.57618464 0.55167484 0.57883987 0.625\n",
            " 0.63582516 0.62949346 0.62888072 0.62765523 0.62234477 0.63378268\n",
            " 0.62622549 0.62214052 0.62418301 0.62874424 0.63325047 0.6362018\n",
            " 0.63788038 0.63893336 0.63989937 0.64100462 0.64224792 0.64354336\n",
            " 0.64481407 0.64602566 0.64717662 0.64827931 0.64934617 0.65038502\n",
            " 0.65139836 0.6523872  0.65335178 0.65429235]\n",
            "19 day output [[0.6552102]]\n",
            "20 day input [0.74673203 0.75490196 0.76041667 0.75980392 0.74652778 0.76245915\n",
            " 0.77062908 0.80412582 0.78104575 0.79411765 0.76021242 0.73488562\n",
            " 0.72406046 0.73999183 0.74979575 0.76143791 0.75428922 0.74754902\n",
            " 0.76960784 0.7495915  0.81719771 0.80208333 0.77736928 0.75714869\n",
            " 0.79370915 0.79166667 0.77144608 0.75265523 0.72691993 0.6629902\n",
            " 0.68198529 0.64419935 0.62152778 0.6439951  0.66319444 0.67544935\n",
            " 0.63705065 0.64603758 0.65890523 0.65870098 0.67790033 0.63194444\n",
            " 0.63112745 0.62785948 0.64767157 0.63991013 0.63480392 0.63868464\n",
            " 0.62336601 0.62745098 0.63970588 0.64705882 0.66196895 0.67075163\n",
            " 0.65196078 0.63112745 0.61294935 0.6376634  0.62254902 0.62745098\n",
            " 0.63337418 0.62642974 0.63623366 0.58312908 0.57781863 0.57230392\n",
            " 0.58006536 0.57618464 0.55167484 0.57883987 0.625      0.63582516\n",
            " 0.62949346 0.62888072 0.62765523 0.62234477 0.63378268 0.62622549\n",
            " 0.62214052 0.62418301 0.62874424 0.63325047 0.6362018  0.63788038\n",
            " 0.63893336 0.63989937 0.64100462 0.64224792 0.64354336 0.64481407\n",
            " 0.64602566 0.64717662 0.64827931 0.64934617 0.65038502 0.65139836\n",
            " 0.6523872  0.65335178 0.65429235 0.6552102 ]\n",
            "20 day output [[0.65610707]]\n",
            "21 day input [0.75490196 0.76041667 0.75980392 0.74652778 0.76245915 0.77062908\n",
            " 0.80412582 0.78104575 0.79411765 0.76021242 0.73488562 0.72406046\n",
            " 0.73999183 0.74979575 0.76143791 0.75428922 0.74754902 0.76960784\n",
            " 0.7495915  0.81719771 0.80208333 0.77736928 0.75714869 0.79370915\n",
            " 0.79166667 0.77144608 0.75265523 0.72691993 0.6629902  0.68198529\n",
            " 0.64419935 0.62152778 0.6439951  0.66319444 0.67544935 0.63705065\n",
            " 0.64603758 0.65890523 0.65870098 0.67790033 0.63194444 0.63112745\n",
            " 0.62785948 0.64767157 0.63991013 0.63480392 0.63868464 0.62336601\n",
            " 0.62745098 0.63970588 0.64705882 0.66196895 0.67075163 0.65196078\n",
            " 0.63112745 0.61294935 0.6376634  0.62254902 0.62745098 0.63337418\n",
            " 0.62642974 0.63623366 0.58312908 0.57781863 0.57230392 0.58006536\n",
            " 0.57618464 0.55167484 0.57883987 0.625      0.63582516 0.62949346\n",
            " 0.62888072 0.62765523 0.62234477 0.63378268 0.62622549 0.62214052\n",
            " 0.62418301 0.62874424 0.63325047 0.6362018  0.63788038 0.63893336\n",
            " 0.63989937 0.64100462 0.64224792 0.64354336 0.64481407 0.64602566\n",
            " 0.64717662 0.64827931 0.64934617 0.65038502 0.65139836 0.6523872\n",
            " 0.65335178 0.65429235 0.6552102  0.65610707]\n",
            "21 day output [[0.65698326]]\n",
            "22 day input [0.76041667 0.75980392 0.74652778 0.76245915 0.77062908 0.80412582\n",
            " 0.78104575 0.79411765 0.76021242 0.73488562 0.72406046 0.73999183\n",
            " 0.74979575 0.76143791 0.75428922 0.74754902 0.76960784 0.7495915\n",
            " 0.81719771 0.80208333 0.77736928 0.75714869 0.79370915 0.79166667\n",
            " 0.77144608 0.75265523 0.72691993 0.6629902  0.68198529 0.64419935\n",
            " 0.62152778 0.6439951  0.66319444 0.67544935 0.63705065 0.64603758\n",
            " 0.65890523 0.65870098 0.67790033 0.63194444 0.63112745 0.62785948\n",
            " 0.64767157 0.63991013 0.63480392 0.63868464 0.62336601 0.62745098\n",
            " 0.63970588 0.64705882 0.66196895 0.67075163 0.65196078 0.63112745\n",
            " 0.61294935 0.6376634  0.62254902 0.62745098 0.63337418 0.62642974\n",
            " 0.63623366 0.58312908 0.57781863 0.57230392 0.58006536 0.57618464\n",
            " 0.55167484 0.57883987 0.625      0.63582516 0.62949346 0.62888072\n",
            " 0.62765523 0.62234477 0.63378268 0.62622549 0.62214052 0.62418301\n",
            " 0.62874424 0.63325047 0.6362018  0.63788038 0.63893336 0.63989937\n",
            " 0.64100462 0.64224792 0.64354336 0.64481407 0.64602566 0.64717662\n",
            " 0.64827931 0.64934617 0.65038502 0.65139836 0.6523872  0.65335178\n",
            " 0.65429235 0.6552102  0.65610707 0.65698326]\n",
            "22 day output [[0.6578396]]\n",
            "23 day input [0.75980392 0.74652778 0.76245915 0.77062908 0.80412582 0.78104575\n",
            " 0.79411765 0.76021242 0.73488562 0.72406046 0.73999183 0.74979575\n",
            " 0.76143791 0.75428922 0.74754902 0.76960784 0.7495915  0.81719771\n",
            " 0.80208333 0.77736928 0.75714869 0.79370915 0.79166667 0.77144608\n",
            " 0.75265523 0.72691993 0.6629902  0.68198529 0.64419935 0.62152778\n",
            " 0.6439951  0.66319444 0.67544935 0.63705065 0.64603758 0.65890523\n",
            " 0.65870098 0.67790033 0.63194444 0.63112745 0.62785948 0.64767157\n",
            " 0.63991013 0.63480392 0.63868464 0.62336601 0.62745098 0.63970588\n",
            " 0.64705882 0.66196895 0.67075163 0.65196078 0.63112745 0.61294935\n",
            " 0.6376634  0.62254902 0.62745098 0.63337418 0.62642974 0.63623366\n",
            " 0.58312908 0.57781863 0.57230392 0.58006536 0.57618464 0.55167484\n",
            " 0.57883987 0.625      0.63582516 0.62949346 0.62888072 0.62765523\n",
            " 0.62234477 0.63378268 0.62622549 0.62214052 0.62418301 0.62874424\n",
            " 0.63325047 0.6362018  0.63788038 0.63893336 0.63989937 0.64100462\n",
            " 0.64224792 0.64354336 0.64481407 0.64602566 0.64717662 0.64827931\n",
            " 0.64934617 0.65038502 0.65139836 0.6523872  0.65335178 0.65429235\n",
            " 0.6552102  0.65610707 0.65698326 0.6578396 ]\n",
            "23 day output [[0.6586767]]\n",
            "24 day input [0.74652778 0.76245915 0.77062908 0.80412582 0.78104575 0.79411765\n",
            " 0.76021242 0.73488562 0.72406046 0.73999183 0.74979575 0.76143791\n",
            " 0.75428922 0.74754902 0.76960784 0.7495915  0.81719771 0.80208333\n",
            " 0.77736928 0.75714869 0.79370915 0.79166667 0.77144608 0.75265523\n",
            " 0.72691993 0.6629902  0.68198529 0.64419935 0.62152778 0.6439951\n",
            " 0.66319444 0.67544935 0.63705065 0.64603758 0.65890523 0.65870098\n",
            " 0.67790033 0.63194444 0.63112745 0.62785948 0.64767157 0.63991013\n",
            " 0.63480392 0.63868464 0.62336601 0.62745098 0.63970588 0.64705882\n",
            " 0.66196895 0.67075163 0.65196078 0.63112745 0.61294935 0.6376634\n",
            " 0.62254902 0.62745098 0.63337418 0.62642974 0.63623366 0.58312908\n",
            " 0.57781863 0.57230392 0.58006536 0.57618464 0.55167484 0.57883987\n",
            " 0.625      0.63582516 0.62949346 0.62888072 0.62765523 0.62234477\n",
            " 0.63378268 0.62622549 0.62214052 0.62418301 0.62874424 0.63325047\n",
            " 0.6362018  0.63788038 0.63893336 0.63989937 0.64100462 0.64224792\n",
            " 0.64354336 0.64481407 0.64602566 0.64717662 0.64827931 0.64934617\n",
            " 0.65038502 0.65139836 0.6523872  0.65335178 0.65429235 0.6552102\n",
            " 0.65610707 0.65698326 0.6578396  0.65867668]\n",
            "24 day output [[0.6594952]]\n",
            "25 day input [0.76245915 0.77062908 0.80412582 0.78104575 0.79411765 0.76021242\n",
            " 0.73488562 0.72406046 0.73999183 0.74979575 0.76143791 0.75428922\n",
            " 0.74754902 0.76960784 0.7495915  0.81719771 0.80208333 0.77736928\n",
            " 0.75714869 0.79370915 0.79166667 0.77144608 0.75265523 0.72691993\n",
            " 0.6629902  0.68198529 0.64419935 0.62152778 0.6439951  0.66319444\n",
            " 0.67544935 0.63705065 0.64603758 0.65890523 0.65870098 0.67790033\n",
            " 0.63194444 0.63112745 0.62785948 0.64767157 0.63991013 0.63480392\n",
            " 0.63868464 0.62336601 0.62745098 0.63970588 0.64705882 0.66196895\n",
            " 0.67075163 0.65196078 0.63112745 0.61294935 0.6376634  0.62254902\n",
            " 0.62745098 0.63337418 0.62642974 0.63623366 0.58312908 0.57781863\n",
            " 0.57230392 0.58006536 0.57618464 0.55167484 0.57883987 0.625\n",
            " 0.63582516 0.62949346 0.62888072 0.62765523 0.62234477 0.63378268\n",
            " 0.62622549 0.62214052 0.62418301 0.62874424 0.63325047 0.6362018\n",
            " 0.63788038 0.63893336 0.63989937 0.64100462 0.64224792 0.64354336\n",
            " 0.64481407 0.64602566 0.64717662 0.64827931 0.64934617 0.65038502\n",
            " 0.65139836 0.6523872  0.65335178 0.65429235 0.6552102  0.65610707\n",
            " 0.65698326 0.6578396  0.65867668 0.65949517]\n",
            "25 day output [[0.6602955]]\n",
            "26 day input [0.77062908 0.80412582 0.78104575 0.79411765 0.76021242 0.73488562\n",
            " 0.72406046 0.73999183 0.74979575 0.76143791 0.75428922 0.74754902\n",
            " 0.76960784 0.7495915  0.81719771 0.80208333 0.77736928 0.75714869\n",
            " 0.79370915 0.79166667 0.77144608 0.75265523 0.72691993 0.6629902\n",
            " 0.68198529 0.64419935 0.62152778 0.6439951  0.66319444 0.67544935\n",
            " 0.63705065 0.64603758 0.65890523 0.65870098 0.67790033 0.63194444\n",
            " 0.63112745 0.62785948 0.64767157 0.63991013 0.63480392 0.63868464\n",
            " 0.62336601 0.62745098 0.63970588 0.64705882 0.66196895 0.67075163\n",
            " 0.65196078 0.63112745 0.61294935 0.6376634  0.62254902 0.62745098\n",
            " 0.63337418 0.62642974 0.63623366 0.58312908 0.57781863 0.57230392\n",
            " 0.58006536 0.57618464 0.55167484 0.57883987 0.625      0.63582516\n",
            " 0.62949346 0.62888072 0.62765523 0.62234477 0.63378268 0.62622549\n",
            " 0.62214052 0.62418301 0.62874424 0.63325047 0.6362018  0.63788038\n",
            " 0.63893336 0.63989937 0.64100462 0.64224792 0.64354336 0.64481407\n",
            " 0.64602566 0.64717662 0.64827931 0.64934617 0.65038502 0.65139836\n",
            " 0.6523872  0.65335178 0.65429235 0.6552102  0.65610707 0.65698326\n",
            " 0.6578396  0.65867668 0.65949517 0.66029549]\n",
            "26 day output [[0.661078]]\n",
            "27 day input [0.80412582 0.78104575 0.79411765 0.76021242 0.73488562 0.72406046\n",
            " 0.73999183 0.74979575 0.76143791 0.75428922 0.74754902 0.76960784\n",
            " 0.7495915  0.81719771 0.80208333 0.77736928 0.75714869 0.79370915\n",
            " 0.79166667 0.77144608 0.75265523 0.72691993 0.6629902  0.68198529\n",
            " 0.64419935 0.62152778 0.6439951  0.66319444 0.67544935 0.63705065\n",
            " 0.64603758 0.65890523 0.65870098 0.67790033 0.63194444 0.63112745\n",
            " 0.62785948 0.64767157 0.63991013 0.63480392 0.63868464 0.62336601\n",
            " 0.62745098 0.63970588 0.64705882 0.66196895 0.67075163 0.65196078\n",
            " 0.63112745 0.61294935 0.6376634  0.62254902 0.62745098 0.63337418\n",
            " 0.62642974 0.63623366 0.58312908 0.57781863 0.57230392 0.58006536\n",
            " 0.57618464 0.55167484 0.57883987 0.625      0.63582516 0.62949346\n",
            " 0.62888072 0.62765523 0.62234477 0.63378268 0.62622549 0.62214052\n",
            " 0.62418301 0.62874424 0.63325047 0.6362018  0.63788038 0.63893336\n",
            " 0.63989937 0.64100462 0.64224792 0.64354336 0.64481407 0.64602566\n",
            " 0.64717662 0.64827931 0.64934617 0.65038502 0.65139836 0.6523872\n",
            " 0.65335178 0.65429235 0.6552102  0.65610707 0.65698326 0.6578396\n",
            " 0.65867668 0.65949517 0.66029549 0.66107798]\n",
            "27 day output [[0.66184264]]\n",
            "28 day input [0.78104575 0.79411765 0.76021242 0.73488562 0.72406046 0.73999183\n",
            " 0.74979575 0.76143791 0.75428922 0.74754902 0.76960784 0.7495915\n",
            " 0.81719771 0.80208333 0.77736928 0.75714869 0.79370915 0.79166667\n",
            " 0.77144608 0.75265523 0.72691993 0.6629902  0.68198529 0.64419935\n",
            " 0.62152778 0.6439951  0.66319444 0.67544935 0.63705065 0.64603758\n",
            " 0.65890523 0.65870098 0.67790033 0.63194444 0.63112745 0.62785948\n",
            " 0.64767157 0.63991013 0.63480392 0.63868464 0.62336601 0.62745098\n",
            " 0.63970588 0.64705882 0.66196895 0.67075163 0.65196078 0.63112745\n",
            " 0.61294935 0.6376634  0.62254902 0.62745098 0.63337418 0.62642974\n",
            " 0.63623366 0.58312908 0.57781863 0.57230392 0.58006536 0.57618464\n",
            " 0.55167484 0.57883987 0.625      0.63582516 0.62949346 0.62888072\n",
            " 0.62765523 0.62234477 0.63378268 0.62622549 0.62214052 0.62418301\n",
            " 0.62874424 0.63325047 0.6362018  0.63788038 0.63893336 0.63989937\n",
            " 0.64100462 0.64224792 0.64354336 0.64481407 0.64602566 0.64717662\n",
            " 0.64827931 0.64934617 0.65038502 0.65139836 0.6523872  0.65335178\n",
            " 0.65429235 0.6552102  0.65610707 0.65698326 0.6578396  0.65867668\n",
            " 0.65949517 0.66029549 0.66107798 0.66184264]\n",
            "28 day output [[0.66259]]\n",
            "29 day input [0.79411765 0.76021242 0.73488562 0.72406046 0.73999183 0.74979575\n",
            " 0.76143791 0.75428922 0.74754902 0.76960784 0.7495915  0.81719771\n",
            " 0.80208333 0.77736928 0.75714869 0.79370915 0.79166667 0.77144608\n",
            " 0.75265523 0.72691993 0.6629902  0.68198529 0.64419935 0.62152778\n",
            " 0.6439951  0.66319444 0.67544935 0.63705065 0.64603758 0.65890523\n",
            " 0.65870098 0.67790033 0.63194444 0.63112745 0.62785948 0.64767157\n",
            " 0.63991013 0.63480392 0.63868464 0.62336601 0.62745098 0.63970588\n",
            " 0.64705882 0.66196895 0.67075163 0.65196078 0.63112745 0.61294935\n",
            " 0.6376634  0.62254902 0.62745098 0.63337418 0.62642974 0.63623366\n",
            " 0.58312908 0.57781863 0.57230392 0.58006536 0.57618464 0.55167484\n",
            " 0.57883987 0.625      0.63582516 0.62949346 0.62888072 0.62765523\n",
            " 0.62234477 0.63378268 0.62622549 0.62214052 0.62418301 0.62874424\n",
            " 0.63325047 0.6362018  0.63788038 0.63893336 0.63989937 0.64100462\n",
            " 0.64224792 0.64354336 0.64481407 0.64602566 0.64717662 0.64827931\n",
            " 0.64934617 0.65038502 0.65139836 0.6523872  0.65335178 0.65429235\n",
            " 0.6552102  0.65610707 0.65698326 0.6578396  0.65867668 0.65949517\n",
            " 0.66029549 0.66107798 0.66184264 0.66259003]\n",
            "29 day output [[0.6633208]]\n",
            "[[0.6287442445755005], [0.6332504749298096], [0.636201798915863], [0.6378803849220276], [0.6389333605766296], [0.6398993730545044], [0.6410046219825745], [0.6422479152679443], [0.6435433626174927], [0.6448140740394592], [0.6460256576538086], [0.6471766233444214], [0.6482793092727661], [0.6493461728096008], [0.6503850221633911], [0.6513983607292175], [0.6523872017860413], [0.6533517837524414], [0.6542923450469971], [0.6552101969718933], [0.6561070680618286], [0.6569832563400269], [0.6578395962715149], [0.6586766839027405], [0.6594951748847961], [0.6602954864501953], [0.6610779762268066], [0.6618426442146301], [0.6625900268554688], [0.663320779800415]]\n"
          ]
        }
      ]
    },
    {
      "cell_type": "code",
      "metadata": {
        "id": "hrwndszGiit4"
      },
      "source": [
        "day_new=np.arange(1,101)\n",
        "day_pred=np.arange(101,131)"
      ],
      "execution_count": 215,
      "outputs": []
    },
    {
      "cell_type": "code",
      "metadata": {
        "colab": {
          "base_uri": "https://localhost:8080/"
        },
        "id": "QBO_mgpluG-W",
        "outputId": "331803c7-9e1c-4453-b61d-590344467d22"
      },
      "source": [
        "len(df1)"
      ],
      "execution_count": 216,
      "outputs": [
        {
          "output_type": "execute_result",
          "data": {
            "text/plain": [
              "2035"
            ]
          },
          "metadata": {},
          "execution_count": 216
        }
      ]
    },
    {
      "cell_type": "code",
      "metadata": {
        "id": "U_QqELu8uNHf"
      },
      "source": [
        "df2=df1.tolist()\n",
        "df2.extend(lst_output)"
      ],
      "execution_count": 217,
      "outputs": []
    },
    {
      "cell_type": "code",
      "metadata": {
        "colab": {
          "base_uri": "https://localhost:8080/",
          "height": 282
        },
        "id": "xd1sWIkNuZW_",
        "outputId": "b1f97bbf-84b4-4dcf-c3ea-2de01cca8bbe"
      },
      "source": [
        "plt.plot(day_new,scaler.inverse_transform(df1[1935:]))\n",
        "plt.plot(day_pred,scaler.inverse_transform(lst_output))"
      ],
      "execution_count": 220,
      "outputs": [
        {
          "output_type": "execute_result",
          "data": {
            "text/plain": [
              "[<matplotlib.lines.Line2D at 0x7f158e712ed0>]"
            ]
          },
          "metadata": {},
          "execution_count": 220
        },
        {
          "output_type": "display_data",
          "data": {
            "image/png": "[encoded data removed]",
            "text/plain": [
              "<Figure size 432x288 with 1 Axes>"
            ]
          },
          "metadata": {
            "needs_background": "light"
          }
        }
      ]
    },
    {
      "cell_type": "markdown",
      "metadata": {
        "id": "xQoHeNDgA4HQ"
      },
      "source": [
        "**These orange line basically shows the new(forecast) 30 days output.**"
      ]
    },
    {
      "cell_type": "code",
      "metadata": {
        "id": "laX_OtHMu4-t",
        "colab": {
          "base_uri": "https://localhost:8080/",
          "height": 282
        },
        "outputId": "9c6243e3-c4cc-417e-9fa3-389c46d6b853"
      },
      "source": [
        "df2=df1.tolist()\n",
        "df2.extend(lst_output)\n",
        "plt.plot(df2[1500:])"
      ],
      "execution_count": 223,
      "outputs": [
        {
          "output_type": "execute_result",
          "data": {
            "text/plain": [
              "[<matplotlib.lines.Line2D at 0x7f158e55d710>]"
            ]
          },
          "metadata": {},
          "execution_count": 223
        },
        {
          "output_type": "display_data",
          "data": {
            "image/png": "[encoded data removed]",
            "text/plain": [
              "<Figure size 432x288 with 1 Axes>"
            ]
          },
          "metadata": {
            "needs_background": "light"
          }
        }
      ]
    },
    {
      "cell_type": "markdown",
      "metadata": {
        "id": "Y0XfpzXtBb1n"
      },
      "source": [
        "**This is the complete graph where you can see the tail part(the new 30 days output) is actually augment with our previous one.**"
      ]
    },
    {
      "cell_type": "markdown",
      "metadata": {
        "id": "_L8TN6VDCFcy"
      },
      "source": [
        "**These is all about our stock price prediction and forecasting using stacked LSTM**"
      ]
    }
  ]
}